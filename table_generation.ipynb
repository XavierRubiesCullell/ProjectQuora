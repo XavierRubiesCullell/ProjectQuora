{
 "cells": [
  {
   "cell_type": "code",
   "execution_count": 6,
   "metadata": {},
   "outputs": [],
   "source": [
    "# files\n",
    "import utils\n",
    "\n",
    "# packages\n",
    "import numpy as np \n",
    "import pandas as pd \n",
    "import os\n",
    "import torch\n",
    "import matplotlib.pyplot as plt\n",
    "from transformers import BertConfig, BertForSequenceClassification, BertTokenizer"
   ]
  },
  {
   "cell_type": "code",
   "execution_count": 2,
   "metadata": {},
   "outputs": [],
   "source": [
    "MODEL_CLASSES = {\n",
    "    'bert': (           BertForSequenceClassification,          BertTokenizer,          'bert-base-uncased'),\n",
    "}\n",
    "\n",
    "model_class, tokenizer, pretrained_model = MODEL_CLASSES['bert']\n",
    "tokenizer = tokenizer.from_pretrained(pretrained_model)"
   ]
  },
  {
   "cell_type": "code",
   "execution_count": 3,
   "metadata": {
    "tags": [
     "outputPrepend",
     "outputPrepend",
     "outputPrepend",
     "outputPrepend",
     "outputPrepend",
     "outputPrepend",
     "outputPrepend",
     "outputPrepend",
     "outputPrepend",
     "outputPrepend",
     "outputPrepend"
    ]
   },
   "outputs": [],
   "source": [
    "def create_data(csv_file):\n",
    "    '''\n",
    "    Dataset creation containing the questions with their tokenization corresponding to the model used.\n",
    "    - input: CSV filename (raw data)\n",
    "    - output: dataframe\n",
    "    '''\n",
    "    data = pd.read_csv(csv_file).fillna(\"\")\n",
    "    tr_qids = pd.Series(data['qid1'].tolist() + data['qid2'].tolist())\n",
    "    unique_dic = tr_qids.value_counts()\n",
    "    sentences = [None]*len(unique_dic)\n",
    "    data = np.array(data)\n",
    "\n",
    "    for row in data:\n",
    "        for i in range(1,3):\n",
    "            id = row[i]\n",
    "            if not sentences[id-1]:\n",
    "                question = row[i+2]\n",
    "                embedding = tokenizer.encode(question, add_special_tokens=False) \n",
    "                if len(embedding) > 34:\n",
    "                    embedding = embedding[0:34]\n",
    "                else:\n",
    "                    embedding.extend([0] * (34 - len(embedding)))\n",
    "                sentences[id-1] = [question] + embedding\n",
    "    df = pd.DataFrame(sentences)\n",
    "    return df"
   ]
  },
  {
   "cell_type": "code",
   "execution_count": 4,
   "metadata": {},
   "outputs": [],
   "source": [
    "file_OUT = \"data/sentences.csv\"\n",
    "file_IN = \"data/train.csv\"\n",
    "\n",
    "df = create_data(file_IN)\n",
    "utils.WriteCSV(df, file_OUT)"
   ]
  }
 ],
 "metadata": {
  "language_info": {
   "codemirror_mode": {
    "name": "ipython",
    "version": 2
   },
   "file_extension": ".py",
   "mimetype": "text/x-python",
   "name": "python",
   "nbconvert_exporter": "python",
   "pygments_lexer": "ipython2",
   "version": "3.6.9-final"
  },
  "orig_nbformat": 2,
  "kernelspec": {
   "name": "python36964bit3f9703cefae54e4a8e8d03694f9a0867",
   "display_name": "Python 3.6.9 64-bit"
  }
 },
 "nbformat": 4,
 "nbformat_minor": 2
}