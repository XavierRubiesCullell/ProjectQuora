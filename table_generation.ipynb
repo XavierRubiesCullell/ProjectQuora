{
 "cells": [
  {
   "cell_type": "code",
   "execution_count": 1,
   "metadata": {
    "tags": []
   },
   "outputs": [
    {
     "output_type": "stream",
     "name": "stderr",
     "text": "Using TensorFlow backend.\n"
    }
   ],
   "source": [
    "# files\n",
    "import utils\n",
    "\n",
    "# packages\n",
    "import numpy as np\n",
    "import pandas as pd\n",
    "import os\n",
    "import torch\n",
    "import matplotlib.pyplot as plt\n",
    "from transformers import BertConfig, BertForSequenceClassification, BertTokenizer\n",
    "import time"
   ]
  },
  {
   "cell_type": "code",
   "execution_count": 2,
   "metadata": {},
   "outputs": [],
   "source": [
    "MODEL_CLASSES = {\n",
    "    'bert': (           BertForSequenceClassification,          BertTokenizer,          'bert-base-uncased'),\n",
    "}\n",
    "\n",
    "model_class, tokenizer, pretrained_model = MODEL_CLASSES['bert']\n",
    "tokenizer = tokenizer.from_pretrained(pretrained_model)"
   ]
  },
  {
   "cell_type": "code",
   "execution_count": 3,
   "metadata": {},
   "outputs": [],
   "source": [
    "def create_sentences(csv_file):\n",
    "    '''\n",
    "    Dataset creation containing the questions with their tokenization corresponding to the model used.\n",
    "    - input: CSV filename (raw data)\n",
    "    - output: dataframe\n",
    "    '''\n",
    "    data = pd.read_csv(csv_file).fillna(\"\")\n",
    "    tr_qids = pd.Series(data['qid1'].tolist() + data['qid2'].tolist())\n",
    "    unique_dic = tr_qids.value_counts()\n",
    "    data = np.array(data)\n",
    "    \n",
    "    sentences = [ [] for _ in range(len(unique_dic)) ]\n",
    "    for i in range(len(data)):\n",
    "        for j in range(1,3):\n",
    "            ind = data[i,j]\n",
    "            if ind == 174363+1 or ind == 493339+1:\n",
    "                print(ind, data[i,j+2])\n",
    "            if not sentences[ind-1]:\n",
    "                question = data[i,j+2]\n",
    "                embedding = tokenizer.encode(question, add_special_tokens=False) \n",
    "                sentences[ind-1] = [question, embedding]\n",
    "            if ind == 174363+1 or indS == 493339+1:\n",
    "                print(ind, sentences[ind-1])\n",
    "    sentences = pd.DataFrame(sentences)\n",
    "    return sentences"
   ]
  },
  {
   "cell_type": "code",
   "execution_count": 4,
   "metadata": {
    "tags": []
   },
   "outputs": [
    {
     "output_type": "stream",
     "name": "stdout",
     "text": "174364 \n174364 ['', []]\n174364 \n174364 ['', []]\n493340 \n493340 ['', []]\n"
    }
   ],
   "source": [
    "file_IN = \"data/train.csv\"\n",
    "file_OUT = \"data/sentences.csv\"\n",
    "\n",
    "df = create_sentences(file_IN)\n",
    "#utils.WriteCSV(df, file_OUT)"
   ]
  },
  {
   "cell_type": "code",
   "execution_count": 55,
   "metadata": {
    "tags": []
   },
   "outputs": [
    {
     "output_type": "stream",
     "name": "stdout",
     "text": "question       \nembedding    []\nName: 174363, dtype: object\nquestion       \nembedding    []\nName: 493339, dtype: object\n"
    }
   ],
   "source": [
    "print(df.iloc[174363,:])\n",
    "print(df.loc[493339,:])"
   ]
  }
 ],
 "metadata": {
  "language_info": {
   "codemirror_mode": {
    "name": "ipython",
    "version": 2
   },
   "file_extension": ".py",
   "mimetype": "text/x-python",
   "name": "python",
   "nbconvert_exporter": "python",
   "pygments_lexer": "ipython2",
   "version": "3.7.5-final"
  },
  "orig_nbformat": 2,
  "kernelspec": {
   "name": "python37564bit7e073ec55cb34f08a10ad5166d1f52fb",
   "display_name": "Python 3.7.5 64-bit"
  }
 },
 "nbformat": 4,
 "nbformat_minor": 2
}