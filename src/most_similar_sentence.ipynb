{
 "cells": [
  {
   "cell_type": "code",
   "execution_count": 1,
   "metadata": {
    "tags": []
   },
   "outputs": [
    {
     "name": "stderr",
     "output_type": "stream",
     "text": [
      "Using TensorFlow backend.\n"
     ]
    }
   ],
   "source": [
    "import torch\n",
    "import numpy as np\n",
    "import pandas as pd\n",
    "from scipy.spatial.distance import cdist\n",
    "from transformers import BertConfig, BertForSequenceClassification, BertTokenizer\n",
    "import collections as ct\n",
    "import time\n",
    "import utils"
   ]
  },
  {
   "cell_type": "code",
   "execution_count": 2,
   "metadata": {
    "tags": []
   },
   "outputs": [
    {
     "data": {
      "text/html": [
       "<div>\n",
       "<style scoped>\n",
       "    .dataframe tbody tr th:only-of-type {\n",
       "        vertical-align: middle;\n",
       "    }\n",
       "\n",
       "    .dataframe tbody tr th {\n",
       "        vertical-align: top;\n",
       "    }\n",
       "\n",
       "    .dataframe thead th {\n",
       "        text-align: right;\n",
       "    }\n",
       "</style>\n",
       "<table border=\"1\" class=\"dataframe\">\n",
       "  <thead>\n",
       "    <tr style=\"text-align: right;\">\n",
       "      <th></th>\n",
       "      <th>question</th>\n",
       "      <th>embedding</th>\n",
       "    </tr>\n",
       "  </thead>\n",
       "  <tbody>\n",
       "    <tr>\n",
       "      <th>0</th>\n",
       "      <td>What is the step by step guide to invest in sh...</td>\n",
       "      <td>[2054, 2003, 1996, 3357, 2011, 3357, 5009, 200...</td>\n",
       "    </tr>\n",
       "    <tr>\n",
       "      <th>1</th>\n",
       "      <td>What is the step by step guide to invest in sh...</td>\n",
       "      <td>[2054, 2003, 1996, 3357, 2011, 3357, 5009, 200...</td>\n",
       "    </tr>\n",
       "    <tr>\n",
       "      <th>2</th>\n",
       "      <td>What is the story of Kohinoor (Koh-i-Noor) Dia...</td>\n",
       "      <td>[2054, 2003, 1996, 2466, 1997, 12849, 10606, 1...</td>\n",
       "    </tr>\n",
       "    <tr>\n",
       "      <th>3</th>\n",
       "      <td>What would happen if the Indian government sto...</td>\n",
       "      <td>[2054, 2052, 4148, 2065, 1996, 2796, 2231, 103...</td>\n",
       "    </tr>\n",
       "    <tr>\n",
       "      <th>4</th>\n",
       "      <td>How can I increase the speed of my internet co...</td>\n",
       "      <td>[2129, 2064, 1045, 3623, 1996, 3177, 1997, 202...</td>\n",
       "    </tr>\n",
       "  </tbody>\n",
       "</table>\n",
       "</div>"
      ],
      "text/plain": [
       "                                            question  \\\n",
       "0  What is the step by step guide to invest in sh...   \n",
       "1  What is the step by step guide to invest in sh...   \n",
       "2  What is the story of Kohinoor (Koh-i-Noor) Dia...   \n",
       "3  What would happen if the Indian government sto...   \n",
       "4  How can I increase the speed of my internet co...   \n",
       "\n",
       "                                           embedding  \n",
       "0  [2054, 2003, 1996, 3357, 2011, 3357, 5009, 200...  \n",
       "1  [2054, 2003, 1996, 3357, 2011, 3357, 5009, 200...  \n",
       "2  [2054, 2003, 1996, 2466, 1997, 12849, 10606, 1...  \n",
       "3  [2054, 2052, 4148, 2065, 1996, 2796, 2231, 103...  \n",
       "4  [2129, 2064, 1045, 3623, 1996, 3177, 1997, 202...  "
      ]
     },
     "execution_count": 2,
     "metadata": {},
     "output_type": "execute_result"
    }
   ],
   "source": [
    "sentences = pd.read_csv(\"data/sentences.csv\")\n",
    "sentences.head()"
   ]
  },
  {
   "cell_type": "code",
   "execution_count": 3,
   "metadata": {
    "tags": []
   },
   "outputs": [
    {
     "name": "stdout",
     "output_type": "stream",
     "text": [
      "<class 'list'>\n",
      "<class 'int'>\n"
     ]
    }
   ],
   "source": [
    "def list_from_string(emb):\n",
    "    emb = emb[1:-1]\n",
    "    if emb: #not empty\n",
    "        emb = emb.split(', ')\n",
    "        emb = list(map(lambda x: int(x), emb))\n",
    "    return emb\n",
    "\n",
    "emb = list_from_string(sentences.iloc[5,1])\n",
    "print(type(emb))\n",
    "print(type(emb[0]))"
   ]
  },
  {
   "cell_type": "code",
   "execution_count": 4,
   "metadata": {},
   "outputs": [],
   "source": [
    "embeddings = sentences.iloc[:,1]"
   ]
  },
  {
   "cell_type": "code",
   "execution_count": 5,
   "metadata": {},
   "outputs": [],
   "source": [
    "questions = sentences.iloc[:,0]"
   ]
  },
  {
   "cell_type": "code",
   "execution_count": 16,
   "metadata": {
    "tags": []
   },
   "outputs": [
    {
     "name": "stdout",
     "output_type": "stream",
     "text": [
      "174363      nan\n",
      "493339      nan\n"
     ]
    }
   ],
   "source": [
    "for i, q in questions.items():\n",
    "    if type(q) is float:\n",
    "        print(i, \"    \", q)"
   ]
  },
  {
   "cell_type": "code",
   "execution_count": 22,
   "metadata": {
    "tags": []
   },
   "outputs": [
    {
     "name": "stdout",
     "output_type": "stream",
     "text": [
      "question     NaN\n",
      "embedding     []\n",
      "Name: 174363, dtype: object\n",
      "question     NaN\n",
      "embedding     []\n",
      "Name: 493339, dtype: object\n"
     ]
    }
   ],
   "source": [
    "print(sentences.loc[174363,:])\n",
    "print(sentences.loc[493339,:])"
   ]
  },
  {
   "cell_type": "code",
   "execution_count": 6,
   "metadata": {},
   "outputs": [],
   "source": [
    "embeddings_aux = list(map(list_from_string, embeddings))"
   ]
  },
  {
   "cell_type": "code",
   "execution_count": 7,
   "metadata": {
    "tags": []
   },
   "outputs": [],
   "source": [
    "model_class = BertForSequenceClassification\n",
    "tokenizer_class = BertTokenizer\n",
    "pretrained_model = 'bert-base-uncased'\n",
    "tokenizer = tokenizer_class.from_pretrained(pretrained_model)"
   ]
  },
  {
   "cell_type": "code",
   "execution_count": 8,
   "metadata": {
    "tags": []
   },
   "outputs": [
    {
     "name": "stdout",
     "output_type": "stream",
     "text": [
      "[2003, 4302, 1029]\n"
     ]
    }
   ],
   "source": [
    "def embed (sent):\n",
    "    # returns the embedding, standardized to length 34, as the sentences in 'embeddings' are this long\n",
    "    emb = tokenizer.encode(sent, add_special_tokens=False)\n",
    "    \n",
    "    # if len(emb) > 34:\n",
    "    #     emb = emb[:34]\n",
    "    # else:\n",
    "    #     emb += [0] * (34 - len(emb))\n",
    "\n",
    "    return emb\n",
    "\n",
    "sent = \"Is Harry?\"\n",
    "print(embed(sent))"
   ]
  },
  {
   "cell_type": "code",
   "execution_count": 9,
   "metadata": {
    "tags": []
   },
   "outputs": [],
   "source": [
    "def most_similar_v1(sent):\n",
    "    '''\n",
    "    It finds the most similar sentence in the dataset\n",
    "    - input: sentence consisting in a string\n",
    "    - output: index of the most similar sentence in the dataset\n",
    "    \n",
    "    Currently it is not working, as needs embeddings as an array\n",
    "    '''\n",
    "    emb = embed(sent)\n",
    "    d = cdist(embeddings, [emb])\n",
    "\n",
    "    present = False\n",
    "    i = D = np.inf\n",
    "    for j in range(len(d)):\n",
    "        if d[j] == 0:\n",
    "            present = True\n",
    "        elif d[j] < D:\n",
    "            D = d[j]\n",
    "            i = j\n",
    "        \n",
    "    print(\"Most similar sentence to: \", sent)\n",
    "    if present:\n",
    "        print(\"The sentence is present in the list\")\n",
    "    print(\"id:  \", i+1, \",   position in the table:  \", i, sep=\"\")\n",
    "    print(\"sentence: \", sentences.iloc[i,0])\n",
    "    print(\"distance: \", float(D),\"\\n\")\n",
    "    \n",
    "    return i\n",
    "\n",
    "\n",
    "def similarity(sample, ref):\n",
    "    ref = ct.Counter(ref)\n",
    "    n = max(sum(sample.values()), sum(ref.values()))\n",
    "    s = 0\n",
    "    for el in sample:\n",
    "        s += min(sample[el], ref[el])\n",
    "    return s/n*100\n",
    "\n",
    "\n",
    "def most_similar(sent):\n",
    "    '''\n",
    "    It finds the most similar sentence in the dataset\n",
    "    - input: sentence consisting in a string\n",
    "    - output: index of the most similar sentence in the dataset\n",
    "    '''\n",
    "    emb = embed(sent)\n",
    "    sample = ct.Counter(emb)\n",
    "    sim = list(map(lambda x: similarity(sample,x), embeddings_aux))\n",
    "\n",
    "    present = False\n",
    "    i = s = -np.inf\n",
    "    for j in range(len(sim)):\n",
    "        if sim[j] == 100:\n",
    "            present = True\n",
    "        elif sim[j] > s:\n",
    "            s = sim[j]\n",
    "            i = j\n",
    "        \n",
    "    print(\"Most similar sentence to: \", sent)\n",
    "    if present:\n",
    "        print(\"The sentence is present in the list!\")\n",
    "    print(\"id:  \", i+1, \",   position in the table:  \", i, sep=\"\")\n",
    "    print(\"sentence: \", sentences.iloc[i,0])\n",
    "    print(\"similarity: \", \"{:.2f}\".format(s), \"%\\n\", sep=\"\")\n",
    "    \n",
    "    return i+1"
   ]
  },
  {
   "cell_type": "code",
   "execution_count": 8,
   "metadata": {
    "tags": []
   },
   "outputs": [
    {
     "name": "stdout",
     "output_type": "stream",
     "text": [
      "Most similar sentence to:  Who was more voted in the presidential elections, Hillary Clinton or Donald Trump?\n",
      "index:  32422\n",
      "sentence:  Who will be the next president of USA: Hillary Clinton or Donald Trump?\n",
      "distance:  4519.969247682997 \n",
      "\n",
      "Most similar sentence to:  Who was more voted in the presidential elections, Hillary Clinton or Donald Trump?\n",
      "index:  80453\n",
      "sentence:  Who will win the US presidential elections 2016: Hillary Clinton or Donald Trump?\n",
      "similarity: 66.67%\n",
      "\n",
      "First version lasted:  0:00:22\n",
      "Second version lasted:  0:00:47 \n",
      " \n",
      "\n",
      "Most similar sentence to:  Is Harry Potter in love with Hermione?\n",
      "index:  260736\n",
      "sentence:  What does IMO mean in a text message?\n",
      "distance:  2550.2176377713336 \n",
      "\n",
      "Most similar sentence to:  Is Harry Potter in love with Hermione?\n",
      "index:  156559\n",
      "sentence:  Why don't Hermione fall in love with Harry?\n",
      "similarity: 61.54%\n",
      "\n",
      "\n",
      "Most similar sentence to:  Which is the best rock band in history?\n",
      "index:  225975\n",
      "sentence:  What are the best video games to play?\n",
      "distance:  118.55800268223145 \n",
      "\n",
      "Most similar sentence to:  Which is the best rock band in history?\n",
      "index:  98604\n",
      "sentence:  Which is the best alternative rock band?\n",
      "similarity: 77.78%\n",
      "\n",
      "Most similar sentence to:  Which is the best alternative rock band?\n",
      "The sentence is present in the list!\n",
      "index:  98605\n",
      "sentence:  Which is the best Alternative Rock band and Why?\n",
      "similarity: 80.00%\n",
      "\n"
     ]
    }
   ],
   "source": [
    "sent = \"Who was more voted in the presidential elections, Hillary Clinton or Donald Trump?\"\n",
    "time1 = time.time()\n",
    "_ = most_similar_v1(sent)\n",
    "time2 = time.time()\n",
    "_ = most_similar(sent)\n",
    "time3 = time.time()\n",
    "\n",
    "print(\"First version lasted: \", utils.format_time(time2-time1))\n",
    "print(\"Second version lasted: \", utils.format_time(time3-time2), \"\\n \\n\")\n",
    "\n",
    "\n",
    "sent = \"Is Harry Potter in love with Hermione?\"\n",
    "_ = most_similar_v1(sent)\n",
    "_ = most_similar(sent)\n",
    "print(\"\")\n",
    "\n",
    "sent = \"Which is the best rock band in history?\"\n",
    "_ = most_similar_v1(sent)\n",
    "i = most_similar(sent)\n",
    "_ = most_similar(sentences.iloc[i,0])"
   ]
  },
  {
   "cell_type": "code",
   "execution_count": 11,
   "metadata": {},
   "outputs": [
    {
     "name": "stdout",
     "output_type": "stream",
     "text": [
      "Most similar sentence to:  Are aliens green or grey?\n",
      "id:  489982,   position in the table:  489981\n",
      "sentence:  Are my eyes hazel or green?\n",
      "similarity: 57.14%\n",
      "\n"
     ]
    }
   ],
   "source": [
    "sent = \"Are aliens green or grey?\"\n",
    "_ = most_similar(sent)"
   ]
  },
  {
   "cell_type": "code",
   "execution_count": 5,
   "metadata": {
    "tags": []
   },
   "outputs": [
    {
     "name": "stdout",
     "output_type": "stream",
     "text": [
      "no\n",
      "what\n",
      "thoughts\n",
      "harry\n"
     ]
    }
   ],
   "source": [
    "print(tokenizer.decode([2053]))\n",
    "print(tokenizer.decode([2054]))\n",
    "print(tokenizer.decode([4301]))\n",
    "print(tokenizer.decode([4302]))"
   ]
  }
 ],
 "metadata": {
  "kernelspec": {
   "display_name": "Python 3",
   "language": "python",
   "name": "python3"
  },
  "language_info": {
   "codemirror_mode": {
    "name": "ipython",
    "version": 3
   },
   "file_extension": ".py",
   "mimetype": "text/x-python",
   "name": "python",
   "nbconvert_exporter": "python",
   "pygments_lexer": "ipython3",
   "version": "3.7.5"
  }
 },
 "nbformat": 4,
 "nbformat_minor": 4
}
