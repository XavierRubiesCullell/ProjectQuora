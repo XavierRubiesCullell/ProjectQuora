{
 "cells": [
  {
   "cell_type": "code",
   "execution_count": 1,
   "metadata": {},
   "outputs": [
    {
     "output_type": "stream",
     "name": "stderr",
     "text": "Using TensorFlow backend.\n/home/danasour/.local/lib/python3.6/site-packages/tensorflow/python/framework/dtypes.py:516: FutureWarning: Passing (type, 1) or '1type' as a synonym of type is deprecated; in a future version of numpy, it will be understood as (type, (1,)) / '(1,)type'.\n  _np_qint8 = np.dtype([(\"qint8\", np.int8, 1)])\n/home/danasour/.local/lib/python3.6/site-packages/tensorflow/python/framework/dtypes.py:517: FutureWarning: Passing (type, 1) or '1type' as a synonym of type is deprecated; in a future version of numpy, it will be understood as (type, (1,)) / '(1,)type'.\n  _np_quint8 = np.dtype([(\"quint8\", np.uint8, 1)])\n/home/danasour/.local/lib/python3.6/site-packages/tensorflow/python/framework/dtypes.py:518: FutureWarning: Passing (type, 1) or '1type' as a synonym of type is deprecated; in a future version of numpy, it will be understood as (type, (1,)) / '(1,)type'.\n  _np_qint16 = np.dtype([(\"qint16\", np.int16, 1)])\n/home/danasour/.local/lib/python3.6/site-packages/tensorflow/python/framework/dtypes.py:519: FutureWarning: Passing (type, 1) or '1type' as a synonym of type is deprecated; in a future version of numpy, it will be understood as (type, (1,)) / '(1,)type'.\n  _np_quint16 = np.dtype([(\"quint16\", np.uint16, 1)])\n/home/danasour/.local/lib/python3.6/site-packages/tensorflow/python/framework/dtypes.py:520: FutureWarning: Passing (type, 1) or '1type' as a synonym of type is deprecated; in a future version of numpy, it will be understood as (type, (1,)) / '(1,)type'.\n  _np_qint32 = np.dtype([(\"qint32\", np.int32, 1)])\n/home/danasour/.local/lib/python3.6/site-packages/tensorflow/python/framework/dtypes.py:525: FutureWarning: Passing (type, 1) or '1type' as a synonym of type is deprecated; in a future version of numpy, it will be understood as (type, (1,)) / '(1,)type'.\n  np_resource = np.dtype([(\"resource\", np.ubyte, 1)])\n/home/danasour/.local/lib/python3.6/site-packages/tensorboard/compat/tensorflow_stub/dtypes.py:541: FutureWarning: Passing (type, 1) or '1type' as a synonym of type is deprecated; in a future version of numpy, it will be understood as (type, (1,)) / '(1,)type'.\n  _np_qint8 = np.dtype([(\"qint8\", np.int8, 1)])\n/home/danasour/.local/lib/python3.6/site-packages/tensorboard/compat/tensorflow_stub/dtypes.py:542: FutureWarning: Passing (type, 1) or '1type' as a synonym of type is deprecated; in a future version of numpy, it will be understood as (type, (1,)) / '(1,)type'.\n  _np_quint8 = np.dtype([(\"quint8\", np.uint8, 1)])\n/home/danasour/.local/lib/python3.6/site-packages/tensorboard/compat/tensorflow_stub/dtypes.py:543: FutureWarning: Passing (type, 1) or '1type' as a synonym of type is deprecated; in a future version of numpy, it will be understood as (type, (1,)) / '(1,)type'.\n  _np_qint16 = np.dtype([(\"qint16\", np.int16, 1)])\n/home/danasour/.local/lib/python3.6/site-packages/tensorboard/compat/tensorflow_stub/dtypes.py:544: FutureWarning: Passing (type, 1) or '1type' as a synonym of type is deprecated; in a future version of numpy, it will be understood as (type, (1,)) / '(1,)type'.\n  _np_quint16 = np.dtype([(\"quint16\", np.uint16, 1)])\n/home/danasour/.local/lib/python3.6/site-packages/tensorboard/compat/tensorflow_stub/dtypes.py:545: FutureWarning: Passing (type, 1) or '1type' as a synonym of type is deprecated; in a future version of numpy, it will be understood as (type, (1,)) / '(1,)type'.\n  _np_qint32 = np.dtype([(\"qint32\", np.int32, 1)])\n/home/danasour/.local/lib/python3.6/site-packages/tensorboard/compat/tensorflow_stub/dtypes.py:550: FutureWarning: Passing (type, 1) or '1type' as a synonym of type is deprecated; in a future version of numpy, it will be understood as (type, (1,)) / '(1,)type'.\n  np_resource = np.dtype([(\"resource\", np.ubyte, 1)])\n"
    }
   ],
   "source": [
    "import sys\n",
    "sys.path.append('../') #everything is build from main folder\n",
    "\n",
    "# files\n",
    "import utils\n",
    "\n",
    "# packages\n",
    "import numpy as np \n",
    "import pandas as pd \n",
    "import os\n",
    "import torch\n",
    "import matplotlib.pyplot as plt\n",
    "from sklearn.manifold import TSNE\n",
    "from sklearn.decomposition import PCA\n",
    "import plotly.express as px\n",
    "import plotly\n",
    "import sklearn.cluster as sk\n",
    "from transformers import BertConfig, BertForSequenceClassification, BertTokenizer\n",
    "from mpl_toolkits.mplot3d import Axes3D"
   ]
  },
  {
   "cell_type": "code",
   "execution_count": 8,
   "metadata": {},
   "outputs": [],
   "source": [
    "df_train = pd.read_csv(\"../data/train.csv\").fillna(\"\")\n",
    "sentences = pd.read_csv(\"../data/sentences.csv\").fillna(\"\")"
   ]
  },
  {
   "cell_type": "code",
   "execution_count": 9,
   "metadata": {},
   "outputs": [],
   "source": [
    "tr_qids = pd.Series(df_train['qid1'].tolist() + df_train['qid2'].tolist())\n",
    "qs_tr = pd.Series(df_train['question1'].tolist() + df_train['question2'].tolist()).astype(str)\n",
    "\n",
    "MODEL_CLASSES = {\n",
    "    'bert': (           BertForSequenceClassification,          BertTokenizer,          'bert-base-uncased')\n",
    "}\n",
    "model_class, tokenizer, pretrained_model = MODEL_CLASSES['bert']\n",
    "tokenizer = tokenizer.from_pretrained(pretrained_model)\n",
    "\n",
    "# Dictionary with unique sentences\n",
    "unique_dic = tr_qids.value_counts()"
   ]
  },
  {
   "cell_type": "code",
   "execution_count": 10,
   "metadata": {},
   "outputs": [
    {
     "output_type": "stream",
     "name": "stdout",
     "text": "There are 448743 different question classes\n"
    }
   ],
   "source": [
    "(class_to_nodes, node_to_class) = utils.clusters(np.array(df_train[[\"qid1\", \"qid2\",\"is_duplicate\"]]))\n",
    "print(\"There are\", len(class_to_nodes), \"different question classes\")"
   ]
  },
  {
   "cell_type": "code",
   "execution_count": 11,
   "metadata": {
    "tags": [
     "outputPrepend",
     "outputPrepend",
     "outputPrepend",
     "outputPrepend",
     "outputPrepend",
     "outputPrepend",
     "outputPrepend",
     "outputPrepend",
     "outputPrepend",
     "outputPrepend"
    ]
   },
   "outputs": [],
   "source": [
    "N_sizes = 10\n",
    "N_classes = 2\n",
    "count = [N_classes]*N_sizes\n",
    "\n",
    "first = True\n",
    "for key, value in class_to_nodes.items():\n",
    "    size = len(value)\n",
    "    # Extract questions from the selected classes\n",
    "    if size >= 2 and size < N_sizes+2 and count[size-2] > 0:\n",
    "        count[size-2] -= 1\n",
    "        for val in value:\n",
    "            question = sentences.iloc[val-1,0]\n",
    "            embedding = utils.list_from_string(sentences.iloc[val-1,1])\n",
    "            # Truncate\n",
    "            if len(embedding) > 34:\n",
    "                embedding = embedding[0:34]\n",
    "            else:\n",
    "                embedding.extend([0] * (70 - len(embedding)))\n",
    "            emb = pd.DataFrame([embedding])\n",
    "            q = pd.DataFrame([val, key, question], index=[\"id\",\"class\",\"question\"]).transpose()\n",
    "            \n",
    "            if first:\n",
    "                res = pd.concat([q, emb], axis=1)\n",
    "                first = False\n",
    "            else:\n",
    "                res = res.append(pd.concat([q, emb], axis=1))"
   ]
  },
  {
   "cell_type": "code",
   "execution_count": 12,
   "metadata": {},
   "outputs": [],
   "source": [
    "def draw_plot (data, method, kind, filename):\n",
    "    '''\n",
    "    Plot with dimensionality reduced embeddings in order to show the class distribution\n",
    "    - input:    data: dataframe with class, question, embeddings\n",
    "                method: TSNE or PCA\n",
    "                kind: 3D or 2D\n",
    "    . output:   plot file\n",
    "    '''\n",
    "    embeddings = np.array(data.iloc[:,3:37])\n",
    "    s = [15 for n in range(len(embeddings))]\n",
    "\n",
    "    if method == \"TSNE\":\n",
    "        if kind == \"2D\":\n",
    "            print(\"Computing \" + method + \" \" + kind + \" plot...\")\n",
    "            tsne = TSNE(n_components=2,verbose=0, perplexity=40, n_iter=300, random_state=510)\n",
    "            node_embeddings = tsne.fit_transform(embeddings)\n",
    "            data['x'] = node_embeddings[:,0]\n",
    "            data['y'] = node_embeddings[:,1]\n",
    "            \n",
    "            fig_2d = px.scatter(data, x=\"x\", y=\"y\", title= \"TSNE: Question embeddings 2D\", hover_data=[\"id\",\"class\", \"question\"], color=\"class\", size = s)\n",
    "            plotly.offline.plot(fig_2d, filename=\"../plots/\"+filename)\n",
    "            print(\"-> Output created: \" + \"plots/\"+filename + \"\\n\")\n",
    "\n",
    "        elif kind == \"3D\":\n",
    "            print(\"Computing \" + method + \" \" + kind + \" plot...\")\n",
    "            tsne = TSNE(n_components= 3,verbose=0, perplexity=40, n_iter=300, random_state=510)\n",
    "            node_embeddings_3d = tsne.fit_transform(embeddings)\n",
    "\n",
    "            data['x'] = node_embeddings_3d[:,0]\n",
    "            data['y'] = node_embeddings_3d[:,1]\n",
    "            data['z'] = node_embeddings_3d[:,2]\n",
    "\n",
    "            fig_3d = px.scatter_3d(data, x=\"x\", y=\"y\", z=\"z\", title= \"TSNE: Question embeddings 3D\", hover_data=[\"id\",\"class\", \"question\"], color=\"class\")\n",
    "            plotly.offline.plot(fig_3d, filename=\"../plots/\"+filename)\n",
    "            print(\"-> Output created: \" + \"plots/\"+filename + \"\\n\")\n",
    "\n",
    "    elif method == \"PCA\":\n",
    "        if kind == \"2D\":\n",
    "            print(\"Computing \" + method + \" \" + kind + \" plot...\")\n",
    "            pca = PCA(n_components=2)\n",
    "            principalComponents = pca.fit_transform(embeddings)\n",
    "\n",
    "            data['x'] = principalComponents[:,0]\n",
    "            data['y'] = principalComponents[:,1]\n",
    "\n",
    "            fig_2d = px.scatter(data, x=\"x\", y=\"y\", title= \"PCA: Question embeddings 2D\", hover_data=[\"id\",\"class\", \"question\"], color=\"class\", size = s)\n",
    "            plotly.offline.plot(fig_2d, filename=\"../plots/\"+filename)\n",
    "            print(\"-> Output created: \" + \"plots/\"+filename + \"\\n\")\n",
    "\n",
    "        elif kind == \"3D\":\n",
    "            print(\"Computing \" + method + \" \" + kind + \" plot...\")\n",
    "            pca = PCA(n_components=3)\n",
    "            principalComponents = pca.fit_transform(embeddings)\n",
    "\n",
    "            data['x'] = principalComponents[:,0]\n",
    "            data['y'] = principalComponents[:,1]\n",
    "            data['z'] = principalComponents[:,2]\n",
    "\n",
    "            fig_3d = px.scatter_3d(data, x=\"x\", y=\"y\", z=\"z\", title= \"PCA: Question embeddings 3D\", hover_data=[\"id\",\"class\", \"question\"], color=\"class\")\n",
    "            plotly.offline.plot(fig_3d, filename=\"../plots/\"+filename)\n",
    "            print(\"-> Output created: \" + \"plots/\"+filename + \"\\n\")\n",
    "\n",
    "    else:\n",
    "        print(\"Choose between TSNE or PCA\")"
   ]
  },
  {
   "cell_type": "code",
   "execution_count": 13,
   "metadata": {},
   "outputs": [
    {
     "output_type": "stream",
     "name": "stdout",
     "text": "Computing TSNE 2D plot...\n-> Output created: plots/2d_tsne.html\n\nComputing TSNE 3D plot...\n-> Output created: plots/3d_tsne.html\n\nComputing PCA 2D plot...\n-> Output created: plots/2d_pca.html\n\nComputing PCA 3D plot...\n-> Output created: plots/3d_pca.html\n\n"
    }
   ],
   "source": [
    "draw_plot (res, \"TSNE\", \"2D\", '2d_tsne.html')\n",
    "draw_plot (res, \"TSNE\", \"3D\", '3d_tsne.html')\n",
    "draw_plot (res, \"PCA\",  \"2D\", '2d_pca.html')\n",
    "draw_plot (res, \"PCA\",  \"3D\", '3d_pca.html')"
   ]
  },
  {
   "cell_type": "code",
   "execution_count": null,
   "metadata": {},
   "outputs": [],
   "source": []
  }
 ],
 "metadata": {
  "language_info": {
   "codemirror_mode": {
    "name": "ipython",
    "version": 2
   },
   "file_extension": ".py",
   "mimetype": "text/x-python",
   "name": "python",
   "nbconvert_exporter": "python",
   "pygments_lexer": "ipython2",
   "version": "3.6.9-final"
  },
  "orig_nbformat": 2,
  "kernelspec": {
   "name": "python36964bit3f9703cefae54e4a8e8d03694f9a0867",
   "display_name": "Python 3.6.9 64-bit"
  }
 },
 "nbformat": 4,
 "nbformat_minor": 2
}