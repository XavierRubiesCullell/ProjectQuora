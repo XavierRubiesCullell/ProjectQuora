{
 "cells": [
  {
   "cell_type": "code",
   "execution_count": 14,
   "metadata": {},
   "outputs": [],
   "source": [
    "import input_net\n",
    "from os import path\n",
    "import pandas as pd"
   ]
  },
  {
   "cell_type": "code",
   "execution_count": 17,
   "metadata": {},
   "outputs": [],
   "source": [
    "TRAIN = \"data/train.csv\"\n",
    "INPUT_NET = 'data/input.csv'\n",
    "\n",
    "if not path.exists(INPUT_NET):\n",
    "    data = input_net.create_input(TRAIN, INPUT_NET)\n",
    "else:\n",
    "    data = pd.read_csv(INPUT_NET)"
   ]
  },
  {
   "cell_type": "code",
   "execution_count": null,
   "metadata": {},
   "outputs": [],
   "source": [
    "from pytorch_pretrained_bert.modeling import BertForSequenceClassification\n",
    "'''\n",
    "model = modeling.BertModel(config=bert_config, \n",
    "                           is_training=is_training,\n",
    "                           input_ids=input_ids,\n",
    "                           input_mask=input_mask,\n",
    "                           token_type_ids=segment_ids,\n",
    "                           use_one_hot_embeddings=use_one_hot_embeddings)\n",
    "'''                           \n",
    "model = BertForSequenceClassification.from_pretrained('bert-base-uncased')"
   ]
  }
 ],
 "metadata": {
  "kernelspec": {
   "display_name": "Python 3",
   "language": "python",
   "name": "python3"
  },
  "language_info": {
   "codemirror_mode": {
    "name": "ipython",
    "version": 3
   },
   "file_extension": ".py",
   "mimetype": "text/x-python",
   "name": "python",
   "nbconvert_exporter": "python",
   "pygments_lexer": "ipython3",
   "version": "3.7.5"
  }
 },
 "nbformat": 4,
 "nbformat_minor": 2
}
