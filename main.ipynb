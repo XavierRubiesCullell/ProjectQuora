{
 "cells": [
  {
   "cell_type": "code",
   "execution_count": 6,
   "metadata": {},
   "outputs": [],
   "source": [
    "import input_net\n",
    "import utils\n",
    "\n",
    "from os import path\n",
    "import numpy as np\n",
    "import pandas as pd\n",
    "import torch\n",
    "from transformers_class.src.transformers import *\n",
    "\n",
    "\n",
    "import warnings\n",
    "warnings.simplefilter(action='ignore', category=FutureWarning)\n"
   ]
  },
  {
   "cell_type": "code",
   "execution_count": 3,
   "metadata": {},
   "outputs": [],
   "source": [
    "TRAIN = \"data/train.csv\"\n",
    "TEST = \"data/test.csv\"\n",
    "INPUT_NET = 'data/input.csv'\n",
    "\n",
    "if not path.exists(INPUT_NET):\n",
    "    df = input_net.create_input(TRAIN, INPUT_NET)\n",
    "else:\n",
    "    df = pd.read_csv(INPUT_NET)"
   ]
  },
  {
   "cell_type": "code",
   "execution_count": 4,
   "metadata": {},
   "outputs": [],
   "source": [
    "tokens_tensor, segments_tensor, attention_tensor, targets_tensor = utils.ToTensor(df)"
   ]
  },
  {
   "cell_type": "code",
   "execution_count": 11,
   "metadata": {},
   "outputs": [],
   "source": [
    "model = BertForSequenceClassification.from_pretrained(\"bert-base-uncased\", num_labels=2)"
   ]
  },
  {
   "cell_type": "code",
   "execution_count": 12,
   "metadata": {},
   "outputs": [],
   "source": [
    "Predictions = model(input_ids=tokens_tensor[1:5],token_type_ids=segments_tensor[1:5],attention_mask=attention_tensor[1:5])"
   ]
  },
  {
   "cell_type": "code",
   "execution_count": 13,
   "metadata": {},
   "outputs": [
    {
     "output_type": "execute_result",
     "data": {
      "text/plain": "(tensor([[-0.5278,  0.0510],\n         [-0.4900,  0.0332],\n         [-0.3192, -0.2029],\n         [-0.4891, -0.0448]], grad_fn=<AddmmBackward>),)"
     },
     "metadata": {},
     "execution_count": 13
    }
   ],
   "source": [
    "Predictions"
   ]
  }
 ],
 "metadata": {
  "kernelspec": {
   "display_name": "Python 3.6.9 64-bit",
   "language": "python",
   "name": "python36964bit3f9703cefae54e4a8e8d03694f9a0867"
  },
  "language_info": {
   "codemirror_mode": {
    "name": "ipython",
    "version": 2
   },
   "file_extension": ".py",
   "mimetype": "text/x-python",
   "name": "python",
   "nbconvert_exporter": "python",
   "pygments_lexer": "ipython2",
   "version": "3.6.9-final"
  }
 },
 "nbformat": 4,
 "nbformat_minor": 2
}