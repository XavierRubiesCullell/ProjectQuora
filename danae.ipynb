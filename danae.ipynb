{
 "cells": [
  {
   "cell_type": "code",
   "execution_count": 1,
   "metadata": {},
   "outputs": [
    {
     "output_type": "stream",
     "name": "stderr",
     "text": "/home/danasour/.local/lib/python3.6/site-packages/tensorflow/python/framework/dtypes.py:516: FutureWarning: Passing (type, 1) or '1type' as a synonym of type is deprecated; in a future version of numpy, it will be understood as (type, (1,)) / '(1,)type'.\n  _np_qint8 = np.dtype([(\"qint8\", np.int8, 1)])\n/home/danasour/.local/lib/python3.6/site-packages/tensorflow/python/framework/dtypes.py:517: FutureWarning: Passing (type, 1) or '1type' as a synonym of type is deprecated; in a future version of numpy, it will be understood as (type, (1,)) / '(1,)type'.\n  _np_quint8 = np.dtype([(\"quint8\", np.uint8, 1)])\n/home/danasour/.local/lib/python3.6/site-packages/tensorflow/python/framework/dtypes.py:518: FutureWarning: Passing (type, 1) or '1type' as a synonym of type is deprecated; in a future version of numpy, it will be understood as (type, (1,)) / '(1,)type'.\n  _np_qint16 = np.dtype([(\"qint16\", np.int16, 1)])\n/home/danasour/.local/lib/python3.6/site-packages/tensorflow/python/framework/dtypes.py:519: FutureWarning: Passing (type, 1) or '1type' as a synonym of type is deprecated; in a future version of numpy, it will be understood as (type, (1,)) / '(1,)type'.\n  _np_quint16 = np.dtype([(\"quint16\", np.uint16, 1)])\n/home/danasour/.local/lib/python3.6/site-packages/tensorflow/python/framework/dtypes.py:520: FutureWarning: Passing (type, 1) or '1type' as a synonym of type is deprecated; in a future version of numpy, it will be understood as (type, (1,)) / '(1,)type'.\n  _np_qint32 = np.dtype([(\"qint32\", np.int32, 1)])\n/home/danasour/.local/lib/python3.6/site-packages/tensorflow/python/framework/dtypes.py:525: FutureWarning: Passing (type, 1) or '1type' as a synonym of type is deprecated; in a future version of numpy, it will be understood as (type, (1,)) / '(1,)type'.\n  np_resource = np.dtype([(\"resource\", np.ubyte, 1)])\n/home/danasour/.local/lib/python3.6/site-packages/tensorboard/compat/tensorflow_stub/dtypes.py:541: FutureWarning: Passing (type, 1) or '1type' as a synonym of type is deprecated; in a future version of numpy, it will be understood as (type, (1,)) / '(1,)type'.\n  _np_qint8 = np.dtype([(\"qint8\", np.int8, 1)])\n/home/danasour/.local/lib/python3.6/site-packages/tensorboard/compat/tensorflow_stub/dtypes.py:542: FutureWarning: Passing (type, 1) or '1type' as a synonym of type is deprecated; in a future version of numpy, it will be understood as (type, (1,)) / '(1,)type'.\n  _np_quint8 = np.dtype([(\"quint8\", np.uint8, 1)])\n/home/danasour/.local/lib/python3.6/site-packages/tensorboard/compat/tensorflow_stub/dtypes.py:543: FutureWarning: Passing (type, 1) or '1type' as a synonym of type is deprecated; in a future version of numpy, it will be understood as (type, (1,)) / '(1,)type'.\n  _np_qint16 = np.dtype([(\"qint16\", np.int16, 1)])\n/home/danasour/.local/lib/python3.6/site-packages/tensorboard/compat/tensorflow_stub/dtypes.py:544: FutureWarning: Passing (type, 1) or '1type' as a synonym of type is deprecated; in a future version of numpy, it will be understood as (type, (1,)) / '(1,)type'.\n  _np_quint16 = np.dtype([(\"quint16\", np.uint16, 1)])\n/home/danasour/.local/lib/python3.6/site-packages/tensorboard/compat/tensorflow_stub/dtypes.py:545: FutureWarning: Passing (type, 1) or '1type' as a synonym of type is deprecated; in a future version of numpy, it will be understood as (type, (1,)) / '(1,)type'.\n  _np_qint32 = np.dtype([(\"qint32\", np.int32, 1)])\n/home/danasour/.local/lib/python3.6/site-packages/tensorboard/compat/tensorflow_stub/dtypes.py:550: FutureWarning: Passing (type, 1) or '1type' as a synonym of type is deprecated; in a future version of numpy, it will be understood as (type, (1,)) / '(1,)type'.\n  np_resource = np.dtype([(\"resource\", np.ubyte, 1)])\n"
    }
   ],
   "source": [
    "import numpy as np # linear algebra\n",
    "import pandas as pd # data processing, CSV file I/O (e.g. pd.read_csv)\n",
    "import os\n",
    "import torch\n",
    "import matplotlib.pyplot as plt\n",
    "from transformers import *\n",
    "%matplotlib inline"
   ]
  },
  {
   "cell_type": "code",
   "execution_count": 2,
   "metadata": {},
   "outputs": [
    {
     "output_type": "stream",
     "name": "stderr",
     "text": "/home/danasour/.local/lib/python3.6/site-packages/IPython/core/interactiveshell.py:3058: DtypeWarning: Columns (0) have mixed types.Specify dtype option on import or set low_memory=False.\n  interactivity=interactivity, compiler=compiler, result=result)\n"
    }
   ],
   "source": [
    "# Train Dataset\n",
    "\n",
    "# id: rowID\n",
    "# qid{1, 2}: unique ID of each question in the pair\n",
    "# question{1, 2}: textual contents of the questions.\n",
    "# is_duplicate: target, whether the two questions are duplicates of each other.\n",
    "\n",
    "#df_train = pd.read_csv(\"../input/quora-question-pairs/train.csv.zip\").fillna(\"\")\n",
    "df_train = pd.read_csv(\"data/train.csv\").fillna(\"\")\n",
    "df_train.head()\n",
    "\n",
    "df_test = pd.read_csv(\"data/test.csv\").fillna(\"\")"
   ]
  },
  {
   "cell_type": "code",
   "execution_count": 3,
   "metadata": {},
   "outputs": [
    {
     "output_type": "execute_result",
     "data": {
      "text/plain": "537933"
     },
     "metadata": {},
     "execution_count": 3
    }
   ],
   "source": [
    "tr_qids = pd.Series(df_train['qid1'].tolist() + df_train['qid2'].tolist())\n",
    "qs_tr = pd.Series(df_train['question1'].tolist() + df_train['question2'].tolist()).astype(str)\n",
    "qs_te = pd.Series(df_test['question1'].tolist() + df_test['question2'].tolist()).astype(str)\n",
    "\n",
    "MODEL_CLASSES = {\n",
    "    'bert': (           BertForSequenceClassification,          BertTokenizer,          'bert-base-uncased')\n",
    "}\n",
    "model_class, tokenizer, pretrained_model = MODEL_CLASSES['bert']\n",
    "\n",
    "tokenizer = tokenizer.from_pretrained(pretrained_model)\n",
    "\n",
    "unique_dic = tr_qids.value_counts()\n",
    "len(unique_dic)"
   ]
  },
  {
   "cell_type": "code",
   "execution_count": 4,
   "metadata": {},
   "outputs": [
    {
     "output_type": "stream",
     "name": "stdout",
     "text": "There are 448743 different question classes\n"
    }
   ],
   "source": [
    "def clusters (llista):\n",
    "    node_to_class = {}\n",
    "    class_to_nodes = {}\n",
    "    for f,s,t in llista:\n",
    "        if f not in node_to_class:\n",
    "            node_to_class[f] = f\n",
    "            class_to_nodes[f] = [f]\n",
    "\n",
    "        if s not in node_to_class:\n",
    "            node_to_class[s] = s\n",
    "            class_to_nodes[s] = [s]\n",
    "        \n",
    "        if t and node_to_class[f] != node_to_class[s]: # class join\n",
    "            class_m = min(node_to_class[f], node_to_class[s])\n",
    "            class_M = max(node_to_class[f], node_to_class[s])\n",
    "            \n",
    "            class_to_nodes[class_m] += class_to_nodes[class_M]\n",
    "            for node in class_to_nodes[class_M]:\n",
    "                node_to_class[node] = class_m\n",
    "            del class_to_nodes[class_M]\n",
    "\n",
    "    return (class_to_nodes, node_to_class)\n",
    "\n",
    "(class_to_nodes, node_to_class) = clusters(np.array(df_train[[\"qid1\", \"qid2\",\"is_duplicate\"]]))\n",
    "print(\"There are\", len(class_to_nodes), \"different question classes\")"
   ]
  },
  {
   "cell_type": "code",
   "execution_count": 5,
   "metadata": {},
   "outputs": [],
   "source": [
    "data = np.array(df_train)\n",
    "sentences = [None]*len(unique_dic)\n",
    "\n",
    "for row in data:\n",
    "    for i in range(1,3):\n",
    "        id = row[i]\n",
    "        if not sentences[id-1]:\n",
    "            question = row[i+2]\n",
    "            sentences[id-1] = [id-1,question]"
   ]
  },
  {
   "cell_type": "code",
   "execution_count": 82,
   "metadata": {
    "tags": [
     "outputPrepend",
     "outputPrepend",
     "outputPrepend",
     "outputPrepend",
     "outputPrepend",
     "outputPrepend",
     "outputPrepend",
     "outputPrepend",
     "outputPrepend",
     "outputPrepend",
     "outputPrepend",
     "outputPrepend",
     "outputPrepend",
     "outputPrepend",
     "outputPrepend",
     "outputPrepend",
     "outputPrepend",
     "outputPrepend",
     "outputPrepend",
     "outputPrepend",
     "outputPrepend",
     "outputPrepend",
     "outputPrepend",
     "outputPrepend",
     "outputPrepend",
     "outputPrepend",
     "outputPrepend",
     "outputPrepend",
     "outputPrepend",
     "outputPrepend",
     "outputPrepend",
     "outputPrepend",
     "outputPrepend",
     "outputPrepend",
     "outputPrepend",
     "outputPrepend",
     "outputPrepend",
     "outputPrepend",
     "outputPrepend",
     "outputPrepend",
     "outputPrepend",
     "outputPrepend",
     "outputPrepend",
     "outputPrepend",
     "outputPrepend",
     "outputPrepend",
     "outputPrepend",
     "outputPrepend",
     "outputPrepend",
     "outputPrepend",
     "outputPrepend",
     "outputPrepend",
     "outputPrepend",
     "outputPrepend",
     "outputPrepend",
     "outputPrepend",
     "outputPrepend",
     "outputPrepend",
     "outputPrepend",
     "outputPrepend",
     "outputPrepend",
     "outputPrepend"
    ]
   },
   "outputs": [],
   "source": [
    "N_sizes = 10\n",
    "N_classes = 5\n",
    "count = [N_classes]*N_sizes\n",
    "\n",
    "embe\n",
    "first = True\n",
    "\n",
    "for key, value in class_to_nodes.items():\n",
    "    size = len(value)\n",
    "    if size >= 2 and size < N_sizes+2 and count[size-2] > 0:\n",
    "        count[size-2] -= 1\n",
    "        values = [None]*len(value)\n",
    "        for val in value:\n",
    "            question = sentences[val-1]\n",
    "            embedding = tokenizer.encode(question[1]) \n",
    "            if len(embedding) > 34:\n",
    "                embedding = embedding[0:34]\n",
    "            else:\n",
    "                embedding.extend([0] * (34 - len(embedding)))\n",
    "            \n",
    "            emb = pd.DataFrame([embedding])\n",
    "            q = pd.DataFrame([val, key, question[1]], index=[\"id\", \"class\",\"question\"]).transpose()\n",
    "            if first:\n",
    "                res = pd.concat([q, emb], axis=1)\n",
    "                first = False\n",
    "            else:\n",
    "                res = res.append(pd.concat([q, emb], axis=1))"
   ]
  },
  {
   "cell_type": "code",
   "execution_count": 83,
   "metadata": {},
   "outputs": [
    {
     "output_type": "execute_result",
     "data": {
      "text/plain": "(325, 37)"
     },
     "metadata": {},
     "execution_count": 83
    }
   ],
   "source": [
    "res.shape"
   ]
  },
  {
   "cell_type": "code",
   "execution_count": 97,
   "metadata": {},
   "outputs": [
    {
     "output_type": "execute_result",
     "data": {
      "text/html": "<div>\n<style scoped>\n    .dataframe tbody tr th:only-of-type {\n        vertical-align: middle;\n    }\n\n    .dataframe tbody tr th {\n        vertical-align: top;\n    }\n\n    .dataframe thead th {\n        text-align: right;\n    }\n</style>\n<table border=\"1\" class=\"dataframe\">\n  <thead>\n    <tr style=\"text-align: right;\">\n      <th></th>\n      <th>0</th>\n      <th>1</th>\n      <th>2</th>\n      <th>3</th>\n      <th>4</th>\n      <th>5</th>\n      <th>6</th>\n      <th>7</th>\n      <th>8</th>\n      <th>9</th>\n      <th>...</th>\n      <th>24</th>\n      <th>25</th>\n      <th>26</th>\n      <th>27</th>\n      <th>28</th>\n      <th>29</th>\n      <th>30</th>\n      <th>31</th>\n      <th>32</th>\n      <th>33</th>\n    </tr>\n  </thead>\n  <tbody>\n    <tr>\n      <th>0</th>\n      <td>101</td>\n      <td>28625</td>\n      <td>6483</td>\n      <td>1024</td>\n      <td>1045</td>\n      <td>2572</td>\n      <td>1037</td>\n      <td>6178</td>\n      <td>7277</td>\n      <td>9691</td>\n      <td>...</td>\n      <td>2033</td>\n      <td>1029</td>\n      <td>102</td>\n      <td>0</td>\n      <td>0</td>\n      <td>0</td>\n      <td>0</td>\n      <td>0</td>\n      <td>0</td>\n      <td>0</td>\n    </tr>\n    <tr>\n      <th>0</th>\n      <td>101</td>\n      <td>1045</td>\n      <td>1005</td>\n      <td>1049</td>\n      <td>1037</td>\n      <td>6420</td>\n      <td>6178</td>\n      <td>7277</td>\n      <td>9691</td>\n      <td>1006</td>\n      <td>...</td>\n      <td>2023</td>\n      <td>2360</td>\n      <td>2055</td>\n      <td>2033</td>\n      <td>1029</td>\n      <td>102</td>\n      <td>0</td>\n      <td>0</td>\n      <td>0</td>\n      <td>0</td>\n    </tr>\n    <tr>\n      <th>0</th>\n      <td>101</td>\n      <td>2129</td>\n      <td>2064</td>\n      <td>1045</td>\n      <td>2022</td>\n      <td>1037</td>\n      <td>2204</td>\n      <td>21334</td>\n      <td>1029</td>\n      <td>102</td>\n      <td>...</td>\n      <td>0</td>\n      <td>0</td>\n      <td>0</td>\n      <td>0</td>\n      <td>0</td>\n      <td>0</td>\n      <td>0</td>\n      <td>0</td>\n      <td>0</td>\n      <td>0</td>\n    </tr>\n    <tr>\n      <th>0</th>\n      <td>101</td>\n      <td>2054</td>\n      <td>2323</td>\n      <td>1045</td>\n      <td>2079</td>\n      <td>2000</td>\n      <td>2022</td>\n      <td>1037</td>\n      <td>2307</td>\n      <td>21334</td>\n      <td>...</td>\n      <td>0</td>\n      <td>0</td>\n      <td>0</td>\n      <td>0</td>\n      <td>0</td>\n      <td>0</td>\n      <td>0</td>\n      <td>0</td>\n      <td>0</td>\n      <td>0</td>\n    </tr>\n    <tr>\n      <th>0</th>\n      <td>101</td>\n      <td>2129</td>\n      <td>2079</td>\n      <td>1045</td>\n      <td>3191</td>\n      <td>1998</td>\n      <td>2424</td>\n      <td>2026</td>\n      <td>7858</td>\n      <td>7928</td>\n      <td>...</td>\n      <td>0</td>\n      <td>0</td>\n      <td>0</td>\n      <td>0</td>\n      <td>0</td>\n      <td>0</td>\n      <td>0</td>\n      <td>0</td>\n      <td>0</td>\n      <td>0</td>\n    </tr>\n    <tr>\n      <th>...</th>\n      <td>...</td>\n      <td>...</td>\n      <td>...</td>\n      <td>...</td>\n      <td>...</td>\n      <td>...</td>\n      <td>...</td>\n      <td>...</td>\n      <td>...</td>\n      <td>...</td>\n      <td>...</td>\n      <td>...</td>\n      <td>...</td>\n      <td>...</td>\n      <td>...</td>\n      <td>...</td>\n      <td>...</td>\n      <td>...</td>\n      <td>...</td>\n      <td>...</td>\n      <td>...</td>\n    </tr>\n    <tr>\n      <th>0</th>\n      <td>101</td>\n      <td>2339</td>\n      <td>2079</td>\n      <td>2796</td>\n      <td>7486</td>\n      <td>5223</td>\n      <td>16913</td>\n      <td>2072</td>\n      <td>1029</td>\n      <td>102</td>\n      <td>...</td>\n      <td>0</td>\n      <td>0</td>\n      <td>0</td>\n      <td>0</td>\n      <td>0</td>\n      <td>0</td>\n      <td>0</td>\n      <td>0</td>\n      <td>0</td>\n      <td>0</td>\n    </tr>\n    <tr>\n      <th>0</th>\n      <td>101</td>\n      <td>2339</td>\n      <td>2079</td>\n      <td>2796</td>\n      <td>7486</td>\n      <td>5223</td>\n      <td>1052</td>\n      <td>1012</td>\n      <td>1049</td>\n      <td>1012</td>\n      <td>...</td>\n      <td>0</td>\n      <td>0</td>\n      <td>0</td>\n      <td>0</td>\n      <td>0</td>\n      <td>0</td>\n      <td>0</td>\n      <td>0</td>\n      <td>0</td>\n      <td>0</td>\n    </tr>\n    <tr>\n      <th>0</th>\n      <td>101</td>\n      <td>2003</td>\n      <td>2009</td>\n      <td>2995</td>\n      <td>2035</td>\n      <td>7486</td>\n      <td>5223</td>\n      <td>16913</td>\n      <td>2072</td>\n      <td>1029</td>\n      <td>...</td>\n      <td>0</td>\n      <td>0</td>\n      <td>0</td>\n      <td>0</td>\n      <td>0</td>\n      <td>0</td>\n      <td>0</td>\n      <td>0</td>\n      <td>0</td>\n      <td>0</td>\n    </tr>\n    <tr>\n      <th>0</th>\n      <td>101</td>\n      <td>2339</td>\n      <td>2515</td>\n      <td>2116</td>\n      <td>7486</td>\n      <td>5223</td>\n      <td>16913</td>\n      <td>2072</td>\n      <td>1029</td>\n      <td>102</td>\n      <td>...</td>\n      <td>0</td>\n      <td>0</td>\n      <td>0</td>\n      <td>0</td>\n      <td>0</td>\n      <td>0</td>\n      <td>0</td>\n      <td>0</td>\n      <td>0</td>\n      <td>0</td>\n    </tr>\n    <tr>\n      <th>0</th>\n      <td>101</td>\n      <td>2024</td>\n      <td>2796</td>\n      <td>7486</td>\n      <td>2114</td>\n      <td>1052</td>\n      <td>1012</td>\n      <td>1049</td>\n      <td>6583</td>\n      <td>7389</td>\n      <td>...</td>\n      <td>0</td>\n      <td>0</td>\n      <td>0</td>\n      <td>0</td>\n      <td>0</td>\n      <td>0</td>\n      <td>0</td>\n      <td>0</td>\n      <td>0</td>\n      <td>0</td>\n    </tr>\n  </tbody>\n</table>\n<p>325 rows × 34 columns</p>\n</div>",
      "text/plain": "     0      1     2     3     4     5      6      7     8      9   ...    24  \\\n0   101  28625  6483  1024  1045  2572   1037   6178  7277   9691  ...  2033   \n0   101   1045  1005  1049  1037  6420   6178   7277  9691   1006  ...  2023   \n0   101   2129  2064  1045  2022  1037   2204  21334  1029    102  ...     0   \n0   101   2054  2323  1045  2079  2000   2022   1037  2307  21334  ...     0   \n0   101   2129  2079  1045  3191  1998   2424   2026  7858   7928  ...     0   \n..  ...    ...   ...   ...   ...   ...    ...    ...   ...    ...  ...   ...   \n0   101   2339  2079  2796  7486  5223  16913   2072  1029    102  ...     0   \n0   101   2339  2079  2796  7486  5223   1052   1012  1049   1012  ...     0   \n0   101   2003  2009  2995  2035  7486   5223  16913  2072   1029  ...     0   \n0   101   2339  2515  2116  7486  5223  16913   2072  1029    102  ...     0   \n0   101   2024  2796  7486  2114  1052   1012   1049  6583   7389  ...     0   \n\n      25    26    27    28   29  30  31  32  33  \n0   1029   102     0     0    0   0   0   0   0  \n0   2360  2055  2033  1029  102   0   0   0   0  \n0      0     0     0     0    0   0   0   0   0  \n0      0     0     0     0    0   0   0   0   0  \n0      0     0     0     0    0   0   0   0   0  \n..   ...   ...   ...   ...  ...  ..  ..  ..  ..  \n0      0     0     0     0    0   0   0   0   0  \n0      0     0     0     0    0   0   0   0   0  \n0      0     0     0     0    0   0   0   0   0  \n0      0     0     0     0    0   0   0   0   0  \n0      0     0     0     0    0   0   0   0   0  \n\n[325 rows x 34 columns]"
     },
     "metadata": {},
     "execution_count": 97
    }
   ],
   "source": [
    "embeddings = res.iloc[:, 3:(3+34)]"
   ]
  },
  {
   "cell_type": "code",
   "execution_count": 103,
   "metadata": {},
   "outputs": [
    {
     "output_type": "stream",
     "name": "stdout",
     "text": "[t-SNE] Computing 121 nearest neighbors...\n[t-SNE] Indexed 325 samples in 0.001s...\n[t-SNE] Computed neighbors for 325 samples in 0.020s...\n[t-SNE] Computed conditional probabilities for sample 325 / 325\n[t-SNE] Mean sigma: 1822.862310\n[t-SNE] KL divergence after 250 iterations with early exaggeration: 61.875732\n[t-SNE] KL divergence after 300 iterations: 0.966853\n"
    },
    {
     "output_type": "display_data",
     "data": {
      "application/vnd.plotly.v1+json": {
       "data": [
        {
         "hovertemplate": "x=%{x}<br>y=%{y}<br>id=%{customdata[0]}<br>class=%{customdata[1]}<br>question=%{customdata[2]}<br>color=%{marker.color}<extra></extra>",
         "showlegend": false,
         "legendgroup": "",
         "name": "",
         "yaxis": "y",
         "customdata": [
          [
           11,
           11,
           "Astrology: I am a Capricorn Sun Cap moon and cap rising...what does that say about me?"
          ],
          [
           12,
           11,
           "I'm a triple Capricorn (Sun, Moon and ascendant in Capricorn) What does this say about me?"
          ],
          [
           15,
           15,
           "How can I be a good geologist?"
          ],
          [
           16,
           15,
           "What should I do to be a great geologist?"
          ],
          [
           23,
           23,
           "How do I read and find my YouTube comments?"
          ],
          [
           24,
           23,
           "How can I see all my Youtube comments?"
          ],
          [
           25,
           25,
           "What can make Physics easy to learn?"
          ],
          [
           26,
           25,
           "How can you make physics easy to learn?"
          ],
          [
           114035,
           25,
           "Is there a way to make learning physics easier?"
          ],
          [
           27,
           27,
           "What was your first sexual experience like?"
          ],
          [
           28,
           27,
           "What was your first sexual experience?"
          ],
          [
           50277,
           27,
           "What is your first sexual experience?"
          ],
          [
           33,
           33,
           "What does manipulation mean?"
          ],
          [
           34,
           33,
           "What does manipulation means?"
          ],
          [
           39,
           39,
           "Which is the best digital marketing institution in banglore?"
          ],
          [
           70980,
           39,
           "Which are the best digital marketing firms in Banglore?"
          ],
          [
           46,
           46,
           "Which question should I ask on Quora?"
          ],
          [
           134030,
           46,
           "What's the best question to ask in Quora?"
          ],
          [
           134031,
           46,
           "What are good questions to ask on Quora?"
          ],
          [
           271267,
           46,
           "Why should I ask Quora?"
          ],
          [
           50,
           50,
           "How many times a day do a clock’s hands overlap?"
          ],
          [
           233769,
           50,
           "How many times do the hour and minute hands of a clock overlap in a 24 hour period?"
          ],
          [
           233961,
           50,
           "How many times does the hands of the clock overlap in a day?"
          ],
          [
           63,
           63,
           "What are some special cares for someone with a nose that gets stuffy during the night?"
          ],
          [
           64,
           63,
           "How can I keep my nose from getting stuffy at night?"
          ],
          [
           43889,
           63,
           "What are some home remedies for a nose that gets stuffy during the night?"
          ],
          [
           97,
           97,
           "What are some examples of products that can be make from crude oil?"
          ],
          [
           98,
           97,
           "What are some of the products made from crude oil?"
          ],
          [
           367301,
           97,
           "What are some products made from crude oil?"
          ],
          [
           99,
           99,
           "How do I make friends."
          ],
          [
           100,
           99,
           "How to make friends ?"
          ],
          [
           105314,
           99,
           "How do I make friends and keep them?"
          ],
          [
           316015,
           99,
           "I have no friends. What should I do about it?"
          ],
          [
           102419,
           99,
           "What is a good way to make friends? Read the details"
          ],
          [
           462304,
           99,
           "What is the best way to make a friend?"
          ],
          [
           107,
           107,
           "What is the best/most memorable thing you've ever eaten and why?"
          ],
          [
           108,
           107,
           "What is the most delicious dish you've ever eaten and why?"
          ],
          [
           652,
           107,
           "What are the most interesting foods you have eaten in any country?"
          ],
          [
           208937,
           107,
           "What is the most delicious meal you've ever eaten?"
          ],
          [
           128657,
           107,
           "What is the tastiest food you have eaten?"
          ],
          [
           128658,
           107,
           "What is the best (not necessarily most expensive) food you've ever eaten?"
          ],
          [
           248362,
           107,
           "What is the best thing you have ever eaten?"
          ],
          [
           78036,
           107,
           "What is the best food you have eaten?"
          ],
          [
           116,
           116,
           "What are some of the best rap songs?"
          ],
          [
           180358,
           116,
           "What are some really good rap songs?"
          ],
          [
           116185,
           116,
           "What is the best rap song?"
          ],
          [
           116186,
           116,
           "What are the best rap songs of all time?"
          ],
          [
           145706,
           116,
           "What is the best rap song ever made?"
          ],
          [
           180988,
           116,
           "What are some rap song suggestions?"
          ],
          [
           338518,
           116,
           "What are some really good rap songs with killer beats?"
          ],
          [
           125,
           125,
           "How is the new Harry Potter book 'Harry Potter and the Cursed Child'?"
          ],
          [
           126,
           125,
           "How bad is the new book by J.K Rowling?"
          ],
          [
           90436,
           125,
           "What are your opinions on Harry Potter and the Cursed Child?"
          ],
          [
           90437,
           125,
           "How is the new Harry Potter book \"Harry Potter and the Cursed Child\"?"
          ],
          [
           101336,
           125,
           "Am i the only one slightly disappointed at reading harry potter and the cursed child?"
          ],
          [
           163544,
           125,
           "What is your review of Harry Potter and the Cursed Child?"
          ],
          [
           180911,
           125,
           "What are the reader's views on Harry Potter and The Cursed Child?"
          ],
          [
           7417,
           125,
           "Did you dislike Harry Potter and the Cursed Child too, or was it just me?"
          ],
          [
           7418,
           125,
           "What's your review on harry potter and the cursed child?"
          ],
          [
           82067,
           125,
           "[Spoilers]What do you think about Harry Potter and the Cursed Child?"
          ],
          [
           130,
           130,
           "Where do I find a U.S. family office database?"
          ],
          [
           141412,
           130,
           "Where can I get a database of U.S. family offices?"
          ],
          [
           141413,
           130,
           "Where can I find a U.S. family office database?"
          ],
          [
           169346,
           130,
           "Where can I get a U.S. family office database?"
          ],
          [
           198214,
           130,
           "Where can I get a database of family offices in the U.S.?"
          ],
          [
           131,
           131,
           "What is Java programming? How To Learn Java Programming Language ?"
          ],
          [
           132,
           131,
           "How do I learn a computer language like java?"
          ],
          [
           343876,
           131,
           "What is Java?"
          ],
          [
           371972,
           131,
           "How can I learn Java programming abroad for free?"
          ],
          [
           135,
           135,
           "Can we ever store energy produced in lightning?"
          ],
          [
           136,
           135,
           "Is it possible to store the energy of lightning?"
          ],
          [
           10657,
           135,
           "Is there any possible way to preserve/store the electrical energy generated by the lightnings?"
          ],
          [
           38442,
           135,
           "Has anyone tried to harness the energy from lightning ever?"
          ],
          [
           38443,
           135,
           "Can we store the energy from lightining?"
          ],
          [
           52814,
           135,
           "Why can't we harness lightning energy?"
          ],
          [
           101659,
           135,
           "Is there any model capacitor that can be used to store the energy obtained from lightning bolt?"
          ],
          [
           8378,
           135,
           "Can we harness electrical power from the lightning?"
          ],
          [
           8379,
           135,
           "Will we be able to gain energy from lightning?"
          ],
          [
           12753,
           135,
           "Is there any possibility to store lightning for usage?"
          ],
          [
           12754,
           135,
           "Why can't we store lightning energy?"
          ],
          [
           187,
           187,
           "What causes a nightmare?"
          ],
          [
           188,
           187,
           "What causes nightmares that seem real?"
          ],
          [
           68732,
           187,
           "Why do we have nightmares? What is the cause of nightmares?"
          ],
          [
           68733,
           187,
           "What are the main causes of nightmares?"
          ],
          [
           144864,
           187,
           "Why do I have nightmares?"
          ],
          [
           202157,
           187,
           "Why do we get Nightmares?"
          ],
          [
           394711,
           187,
           "What do you think causes bad dreams?"
          ],
          [
           394712,
           187,
           "Why do we have bad dreams?"
          ],
          [
           227,
           227,
           "What do you think China food?"
          ],
          [
           228,
           227,
           "How do you think of Chinese food?"
          ],
          [
           112374,
           227,
           "What thinking do you have about Chinese food? Do you like it?"
          ],
          [
           46820,
           227,
           "How do you think about Chinese food?"
          ],
          [
           46821,
           227,
           "What do you think of the Chinese food?"
          ],
          [
           232768,
           227,
           "What do you think of the food of China?"
          ],
          [
           251,
           251,
           "Why does China block sanctions at the UN against the Jaish-e-Mohammad (JeM) chief, Masood Azhar?"
          ],
          [
           252,
           251,
           "Why does China support Masood Azhar?"
          ],
          [
           33925,
           251,
           "Why is China blocking the move at UN to ban Masood Azhar as terrorist?"
          ],
          [
           145833,
           251,
           "Why does China supports terrorists like Masood Azhar?"
          ],
          [
           114241,
           251,
           "Why did China again object to India's bid at UN to ban JeM chief Masood Azhar?"
          ],
          [
           114242,
           251,
           "Why does China constantly block India's proposal at the UN to list Masood Azhar as a designated terrorist?"
          ],
          [
           82212,
           251,
           "Why is China blocking the move to ban Masood Azhar at UN?"
          ],
          [
           272834,
           251,
           "Why is china favouring Pakistan in blocking India's bid at the UN for a ban on Pakistani terror group Jaish-e -Mohammad chief Masood Azhar?"
          ],
          [
           37817,
           251,
           "Why is China not supporting India's bid to list Azhar as designated terrorist?"
          ],
          [
           37818,
           251,
           "Why does China keep on blocking India's bid to label Masood Azhar as a terrorist?"
          ],
          [
           255,
           255,
           "Can excessive amounts of Vitamin C cause me to have a miscarriage?"
          ],
          [
           256,
           255,
           "How can Vitamin C cause a miscarriage?"
          ],
          [
           8031,
           255,
           "Can Vitamin C pills cause a miscarriage?"
          ],
          [
           8032,
           255,
           "Does vitamin C cause miscarriages?"
          ],
          [
           313,
           313,
           "If I do not monetize YouTube videos & upload copyright content, then are there chances that Google may block my account?"
          ],
          [
           314,
           313,
           "How do you upload movies on YouTube and monetize them? Is there any issue of copyright"
          ],
          [
           71619,
           313,
           "Can I upload part of anime videos on YouTube and monetize it without copyright issue?"
          ],
          [
           71620,
           313,
           "How can I upload anime on YouTube without copyright issue?"
          ],
          [
           355262,
           313,
           "How do I upload YouTube videos which have copyright issues if I want to monetize them?"
          ],
          [
           331,
           331,
           "Which is the best earphone with deep bass under 1000?"
          ],
          [
           332,
           331,
           "Which is the Best earphones under Rs 1000?"
          ],
          [
           130481,
           331,
           "Which is the best bass in earphone under 1000?"
          ],
          [
           51787,
           331,
           "Which are the best of the best earphones for the ultimate bass, within Rs. 1000?"
          ],
          [
           147842,
           331,
           "What is the best earphones for bass under 1000?"
          ],
          [
           235470,
           331,
           "Which \"is\" the best pair of in-ear earphones under Rs. 1000?"
          ],
          [
           235686,
           331,
           "Which is the best earphone under 1000 bucks?"
          ],
          [
           337,
           337,
           "Which are the best engineering fields?"
          ],
          [
           338,
           337,
           "What is the best field of engineering?"
          ],
          [
           171304,
           337,
           "What is best branch in engineering?"
          ],
          [
           133940,
           337,
           "Which are the best field in engineering?"
          ],
          [
           133941,
           337,
           "What is the best engineering field in the world?"
          ],
          [
           320961,
           337,
           "Which is the best engineering field that I can choose?"
          ],
          [
           361,
           361,
           "How do you get deleted Instagram chats?"
          ],
          [
           362,
           361,
           "How can I view deleted Instagram dms?"
          ],
          [
           12735,
           361,
           "How can I view deleted Instagram messages or text?"
          ],
          [
           94368,
           361,
           "How can I view deleted Instagram text messages?"
          ],
          [
           221083,
           361,
           "How can I get back my instagram deleted dms?"
          ],
          [
           179957,
           361,
           "How can I recover deleted messages in Instagram?"
          ],
          [
           365,
           365,
           "What if I hired two private eyes and ordered them to follow each other?"
          ],
          [
           366,
           365,
           "Would I be able to hire two private investigators and then get them to follow each other?"
          ],
          [
           51686,
           365,
           "What would happen if you hired two private detectives to spy on each other?"
          ],
          [
           54934,
           365,
           "What would happen if I sent two private investigators to find each other?"
          ],
          [
           72718,
           365,
           "What will happen if I hire two private detectives to follow each other?"
          ],
          [
           84985,
           365,
           "What would happen if I got two private investigators to follow each other?"
          ],
          [
           387,
           387,
           "What is the best combination of courses I can take up along with CA to enhance my career?"
          ],
          [
           388,
           387,
           "What courses must be taken along with CA course?"
          ],
          [
           110985,
           387,
           "What are the best courses to pursue along with CA?"
          ],
          [
           77095,
           387,
           "What is the best course to do after CA?"
          ],
          [
           389,
           389,
           "How do you take a screenshot on a Mac laptop?"
          ],
          [
           390,
           389,
           "How do I take a screenshot on my MacBook Pro? What are some instructions?"
          ],
          [
           190143,
           389,
           "What are some ways to take screenshots on a MacBook Pro?"
          ],
          [
           424501,
           389,
           "How do you take a screenshot on a Mac?"
          ],
          [
           395,
           395,
           "What are some must watch TV shows before you die?"
          ],
          [
           396,
           395,
           "Are there any must watch TV shows?"
          ],
          [
           9487,
           395,
           "What TV series do you watch and why?"
          ],
          [
           9488,
           395,
           "Which TV series should are worth watching?"
          ],
          [
           72431,
           395,
           "What TV series are worth watching?"
          ],
          [
           169913,
           395,
           "What are the top 10 TV series one should genuinely watch?"
          ],
          [
           191240,
           395,
           "What are some good TV shows I can watch?"
          ],
          [
           212915,
           395,
           "Which TV series are worth watching?"
          ],
          [
           263148,
           395,
           "What are the best TV serials to watch?"
          ],
          [
           281826,
           395,
           "What are the top 10 best TV series of all time?"
          ],
          [
           401,
           401,
           "What is the easiest way to become a billionaire($)?"
          ],
          [
           402,
           401,
           "What is the best way to become a billionaire?"
          ],
          [
           636,
           401,
           "How can I become a billionaire?"
          ],
          [
           637,
           401,
           "How can I become a billionaire (in finance)?"
          ],
          [
           7319,
           401,
           "How can I become a billionaire in mindset?"
          ],
          [
           128644,
           401,
           "How do I get to billionaire status, as in how to become a billionaire?"
          ],
          [
           147732,
           401,
           "How do I become a billionaire by 25?"
          ],
          [
           194717,
           401,
           "I want to become a billionaire, how do I become one?"
          ],
          [
           459,
           459,
           "How can we make the world a better place to live in for the future generations?"
          ],
          [
           460,
           459,
           "What can I do to make the world a better place?"
          ],
          [
           93291,
           459,
           "How can I make the world a better place today?"
          ],
          [
           93292,
           459,
           "How can we make the world a better place for all and for the future generation to come?"
          ],
          [
           109081,
           459,
           "How did you make the world a better place today?"
          ],
          [
           15150,
           459,
           "How can we make the world a better place?"
          ],
          [
           98060,
           459,
           "How can WE TOGETHER Make the World a Better Place?"
          ],
          [
           98061,
           459,
           "How can an ordinary person make the world a better place?"
          ],
          [
           264790,
           459,
           "How can I make this world a better place?"
          ],
          [
           471,
           471,
           "Why are we worried about others' opinions?"
          ],
          [
           472,
           471,
           "Why do we care for others' opinion and about what others think about us?"
          ],
          [
           82571,
           471,
           "Why do people care what others think of them?"
          ],
          [
           82572,
           471,
           "Why do people think about \"what others will think?\""
          ],
          [
           311624,
           471,
           "Why do we have to care about what people think?"
          ],
          [
           511,
           511,
           "Will Modi win in 2019?"
          ],
          [
           512,
           511,
           "Can Narendra Modi become Prime Minister of India in 2019?"
          ],
          [
           59488,
           511,
           "Will Narendra Modi become the PM in 2019?"
          ],
          [
           43199,
           511,
           "Will Narendra Modi become PM after the 2019 general elections?"
          ],
          [
           43200,
           511,
           "Is it possible for Narendra Modi ji to win 2019 on present circumstances?"
          ],
          [
           121335,
           511,
           "Will Modi become the Prime Minister of India once again in 2019?"
          ],
          [
           415501,
           511,
           "Is there still hope in Narendra Modi's becoming the Prime Minister in the 2019 elections?"
          ],
          [
           568,
           568,
           "How can I make money online with free of cost?"
          ],
          [
           569,
           568,
           "How do I to make money online?"
          ],
          [
           36751,
           568,
           "How should I make money online for free?"
          ],
          [
           101583,
           568,
           "What is the easiest way to make money online without spending a lot of time or money?"
          ],
          [
           5511,
           568,
           "How do I make money online without spending money?"
          ],
          [
           8268,
           568,
           "How can I make money online for free?"
          ],
          [
           92406,
           568,
           "Where can make money online free?"
          ],
          [
           214223,
           568,
           "How can I make money online without spending money?"
          ],
          [
           572,
           572,
           "How successful was odd even plan?"
          ],
          [
           573,
           572,
           "How successful was the Delhi's Odd-even plan?"
          ],
          [
           119577,
           572,
           "How successful and unseccessful was odd-even policy in Delhi?"
          ],
          [
           199376,
           572,
           "Was odd even formula a successful initiative in delhi?"
          ],
          [
           236532,
           572,
           "Is the odd even car policy in Delhi successful?"
          ],
          [
           313438,
           572,
           "Was Delhi's odd-even rule effective?"
          ],
          [
           483675,
           572,
           "How would we know if Delhi's odd-even car rule experiment succeeded or failed?"
          ],
          [
           589,
           589,
           "What do you people think of Mr. Arvind Kejriwal and his AAP?"
          ],
          [
           64583,
           589,
           "What Delhi people think about kejriwal?"
          ],
          [
           65904,
           589,
           "May 2016: What do Delhi people think about Kejriwal, are YOU really satisfied with Governance and his attitude to PM Modi?"
          ],
          [
           97472,
           589,
           "July 2016: What do people of Delhi think about Arvind Kejriwal as CM."
          ],
          [
           193729,
           589,
           "What does the Delhi public actually think about Arvind Kejriwal?"
          ],
          [
           592,
           592,
           "How does concentric contractions differ from eccentric contractions?"
          ],
          [
           593,
           592,
           "How do concentric and eccentric contraction compare and contrast?"
          ],
          [
           7378,
           592,
           "What are some symptoms of eccentric and concentric contractions?"
          ],
          [
           59949,
           592,
           "What are the differences between a concentric and eccentric movement?"
          ],
          [
           36052,
           592,
           "What are some characteristics of concentric and eccentric contraction?"
          ],
          [
           36053,
           592,
           "How do eccentric and concentric contractions compare and contrast?"
          ],
          [
           73803,
           592,
           "What are some characteristics of eccentric and concentric contractions?"
          ],
          [
           73804,
           592,
           "What are the differences between eccentric and concentric contraction? What are some examples?"
          ],
          [
           695,
           695,
           "What's the best near-death experience you've ever had?"
          ],
          [
           696,
           695,
           "Has anyone ever had a near-death experience?"
          ],
          [
           38939,
           695,
           "Have you ever had a near death experience?"
          ],
          [
           133477,
           695,
           "For anyone that has had their life flash before their eyes during a near death experience, what was it like?"
          ],
          [
           195045,
           695,
           "Has anyone had a near death experience that they can describe?"
          ],
          [
           208058,
           695,
           "What is the most life changing near death experience you've ever had?"
          ],
          [
           375717,
           695,
           "Has anyone had any near death experiences that they wish to share?"
          ],
          [
           726,
           726,
           "How can I become a good speaker?"
          ],
          [
           727,
           726,
           "What should I do to be a good Speaker?"
          ],
          [
           144797,
           726,
           "How can I become a good public speaker?"
          ],
          [
           144798,
           726,
           "How do I become good public speaker?"
          ],
          [
           350197,
           726,
           "How can I become good speaker?"
          ],
          [
           744,
           744,
           "What should someone do to overcome anxiety?"
          ],
          [
           745,
           744,
           "What should I do to avoid depression and anxiety?"
          ],
          [
           17190,
           744,
           "How do I overcome depression, anxiety and stress?"
          ],
          [
           17191,
           744,
           "How should I overcome anxiety and depression?"
          ],
          [
           23949,
           744,
           "How can I overcome my depression and my fears?"
          ],
          [
           33905,
           744,
           "How do I overcome anxiety and depression?"
          ],
          [
           54251,
           744,
           "What should I do to overcome anxiety?"
          ],
          [
           62075,
           744,
           "What is the best way to overcome depression without doing anything?"
          ],
          [
           82404,
           744,
           "How does one overcome depression and anxiety?"
          ],
          [
           82405,
           744,
           "Can one overcome depression?"
          ],
          [
           257345,
           744,
           "What is the best way to overcome from depression?"
          ],
          [
           796,
           796,
           "How do I pass a drug test for methamphetamine?"
          ],
          [
           797,
           796,
           "Can hair dye help pass a hair follicle drug test for daily meth smokers?"
          ],
          [
           28974,
           796,
           "How do I pass a meth drug test?"
          ],
          [
           28975,
           796,
           "How do I to beat a federal drug test if you are a meth user?"
          ],
          [
           50465,
           796,
           "Can you pass a urine test for meth with Suragel?"
          ],
          [
           36852,
           796,
           "Does exercise help pass meth drug test?"
          ],
          [
           36853,
           796,
           "What drinks can I get to pass drug test for meth?"
          ],
          [
           29254,
           796,
           "What helps you pass a meth test?"
          ],
          [
           185764,
           796,
           "How can one pass a hair folicle test for meth when you are dirty?"
          ],
          [
           227167,
           796,
           "Does sure gell help pass a drug test for meth?"
          ],
          [
           295287,
           796,
           "What will clean your ph from methamphetamine for a drug test?"
          ],
          [
           798,
           798,
           "How could start with open source development?"
          ],
          [
           799,
           798,
           "How should I start contributing to open source projects?"
          ],
          [
           38523,
           798,
           "How can I contribute to open source development?"
          ],
          [
           11511,
           798,
           "What open source project did you start contributing with?"
          ],
          [
           11512,
           798,
           "How do I start contributing for open source development?"
          ],
          [
           7721,
           798,
           "How may I contribute to the world of open source?"
          ],
          [
           7722,
           798,
           "How do I get involved in open source?"
          ],
          [
           172224,
           798,
           "How do I start contributing to Open source coding?"
          ],
          [
           93744,
           798,
           "How do I participate or contribute in open source projects?"
          ],
          [
           119479,
           798,
           "What is the best thing to do to start being involved in open source projects?"
          ],
          [
           808,
           808,
           "What are movies with incest scenes?"
          ],
          [
           809,
           808,
           "Are there any good incest movie?"
          ],
          [
           40065,
           808,
           "What are the best incest movies ever?"
          ],
          [
           8159,
           808,
           "Which are the movies with incest themes?"
          ],
          [
           8160,
           808,
           "Which is best incest movie?"
          ],
          [
           135295,
           808,
           "What great movies have incest as a theme?"
          ],
          [
           119578,
           808,
           "What is best incest movie?"
          ],
          [
           119579,
           808,
           "What are all the famous incest movies?"
          ],
          [
           227862,
           808,
           "Which are the top incest movies ever?"
          ],
          [
           890,
           890,
           "When is it too late to learn the piano?"
          ],
          [
           891,
           890,
           "I'm almost 40. Is it too late for me to learn piano?"
          ],
          [
           26893,
           890,
           "When is it too late to learn piano?"
          ],
          [
           26894,
           890,
           "At my late sixties, is it too late to learn to play the piano?"
          ],
          [
           83712,
           890,
           "Is it too late to learn to play the piano at 26?"
          ],
          [
           96544,
           890,
           "Is it too late to learn piano at the age of 30?"
          ],
          [
           160895,
           890,
           "Is it too late to learn to play the piano at 15?"
          ],
          [
           213958,
           890,
           "I am 16 years old. Is it too late to start learning piano?"
          ],
          [
           241868,
           890,
           "Is 16 too late for the piano?"
          ],
          [
           1066,
           1066,
           "What could be Narendra Modi's next move after demonetization?"
          ],
          [
           1067,
           1066,
           "What is next step after demonetization?"
          ],
          [
           76010,
           1066,
           "What would be Narendra Modi's next steps to tackle black money after demonetization?"
          ],
          [
           67173,
           1066,
           "After demonetization, which could be next step that needs to be taken by Indian Government to prevent black money and corruption?"
          ],
          [
           140439,
           1066,
           "What is going to be the next step of Modi's Government regarding black money?"
          ],
          [
           193992,
           1066,
           "What would be the next step by Narendra Modi to eradicate black money?"
          ],
          [
           120649,
           1066,
           "What will be Modi next step for removing black money?"
          ],
          [
           120650,
           1066,
           "What is going to be Modi s next step against disproportionate properties and assets?"
          ],
          [
           224137,
           1066,
           "What will be the next step taken by MODI to combat black-money/ terrorism/ corruption?"
          ],
          [
           1070,
           1070,
           "What is an interesting fact that you know and I don't, but shouldn't?"
          ],
          [
           1071,
           1070,
           "What is the most interesting fact that most people don't know about?"
          ],
          [
           2739,
           1070,
           "What is the most interesting fact that I know, but you don't, but I shouldn't?"
          ],
          [
           59922,
           1070,
           "What are some interesting facts that you don't know but I should?"
          ],
          [
           143544,
           1070,
           "What is the most interesting fact that you know and I don't, but I should?"
          ],
          [
           39275,
           1070,
           "What are some interesting facts that I should know?"
          ],
          [
           39276,
           1070,
           "What is the best fact that I should know?"
          ],
          [
           87332,
           1070,
           "What is the most interesting fact that you know but I don't?"
          ],
          [
           87333,
           1070,
           "What is an interesting fact that you know, and I should know?"
          ],
          [
           1514,
           1514,
           "How does the ranking of answers on Quora work?"
          ],
          [
           33774,
           1514,
           "How does Quora decide the order of the answers to a question?"
          ],
          [
           33775,
           1514,
           "How does Quora sort multiple answers for a question?"
          ],
          [
           47178,
           1514,
           "How does Quora determine the order in which answers to a given question appear?"
          ],
          [
           51956,
           1514,
           "How is the order of answers on a particular question decided?"
          ],
          [
           194572,
           1514,
           "In what order are answers displayed on Quora?"
          ],
          [
           206827,
           1514,
           "Which answers does Quora show first for each question?"
          ],
          [
           217521,
           1514,
           "What algorithm does Quora follow for arranging the answers of a particular question?"
          ],
          [
           349555,
           1514,
           "What determines the order of answers to a question on Quora as of July 1, 2014?"
          ],
          [
           151535,
           1514,
           "How does Quora determine the top answer?"
          ],
          [
           151536,
           1514,
           "How does Quora work in terms of deciding which answer is the best answer?"
          ],
          [
           1781,
           1781,
           "What are the best interview questions ever asked?"
          ],
          [
           1782,
           1781,
           "What are the best interview questions to ask?"
          ],
          [
           52792,
           1781,
           "What are best interview questions to be asked?"
          ],
          [
           79745,
           1781,
           "What are the best interview questions?"
          ],
          [
           57946,
           1781,
           "What is the best interview question ever?"
          ],
          [
           57947,
           1781,
           "What are some of the best interview question ever asked?"
          ],
          [
           133293,
           1781,
           "What's the best question ever asked in an interview?"
          ],
          [
           127638,
           1781,
           "What is the best interview question?"
          ],
          [
           250494,
           1781,
           "What are great interview questions?"
          ],
          [
           282455,
           1781,
           "What are some good job interview questions?"
          ],
          [
           1829,
           1829,
           "Does all Muslims hate Narendra Modi?"
          ],
          [
           1830,
           1829,
           "Why Muslims hate Modi government?"
          ],
          [
           25964,
           1829,
           "Do all muslims hate Prime Minister Narendra Modi and RSS?"
          ],
          [
           2326,
           1829,
           "Do Muslim in India, especially in Gujarat,India hate(still) Narendra Modi?"
          ],
          [
           2327,
           1829,
           "Why do some Indian Muslims hate Narendra Modi?"
          ],
          [
           50948,
           1829,
           "Why do most of Indian Muslims hate/against PM Modi?"
          ],
          [
           135605,
           1829,
           "Why do Indian Muslims hate Modi?"
          ],
          [
           186640,
           1829,
           "Why do Indian Muslims hate P.M. Narendra Modi?"
          ],
          [
           68879,
           1829,
           "Is it true all Muslims hate Modi?"
          ],
          [
           68880,
           1829,
           "Why does many Muslims hate Modi?"
          ],
          [
           195370,
           1829,
           "Are Indian Muslims against P.M Narendra Modi? Why?"
          ]
         ],
         "y": [
          -4.9361653327941895,
          -6.6655778884887695,
          -6.190775394439697,
          -0.25342270731925964,
          -0.8572563529014587,
          -3.7521255016326904,
          -2.0016908645629883,
          -3.828383445739746,
          -0.6982660293579102,
          -0.1590961366891861,
          0.4830462336540222,
          0.6608250737190247,
          -5.680537223815918,
          -10.225260734558105,
          -13.172842979431152,
          -13.126193046569824,
          -6.183518409729004,
          -13.821759223937988,
          12.446659088134766,
          -8.487398147583008,
          7.853230953216553,
          8.769646644592285,
          -13.630699157714844,
          -9.708520889282227,
          3.4197945594787598,
          5.705787181854248,
          -2.653270959854126,
          -0.06084354966878891,
          -5.389670372009277,
          2.794753074645996,
          3.487264394760132,
          -0.3584368824958801,
          2.8661398887634277,
          5.704537391662598,
          0.7085566520690918,
          9.189410209655762,
          8.100781440734863,
          2.3404383659362793,
          8.08985424041748,
          -10.12983226776123,
          -7.304369926452637,
          0.1122361421585083,
          -1.2662442922592163,
          -4.63646936416626,
          2.493529796600342,
          -7.226123809814453,
          -6.833079814910889,
          -6.925464153289795,
          2.3938112258911133,
          4.515637397766113,
          10.381173133850098,
          5.672429084777832,
          7.912841320037842,
          10.343164443969727,
          2.558104991912842,
          7.720760345458984,
          9.601055145263672,
          -7.410473823547363,
          6.431031703948975,
          6.728943347930908,
          6.80116081237793,
          5.16711950302124,
          6.812591075897217,
          6.825991153717041,
          3.5895276069641113,
          -1.603926658630371,
          -0.18076147139072418,
          5.420711040496826,
          -8.144387245178223,
          1.1961508989334106,
          0.19391191005706787,
          -7.319741725921631,
          -8.804573059082031,
          12.459863662719727,
          3.3317909240722656,
          -8.898883819580078,
          -10.575972557067871,
          0.46693140268325806,
          -1.3740980625152588,
          -4.172647953033447,
          4.710360050201416,
          -5.6931471824646,
          -10.740046501159668,
          -5.928543567657471,
          -8.229692459106445,
          -8.234640121459961,
          -3.4007203578948975,
          1.0297638177871704,
          1.1669694185256958,
          -0.5324732661247253,
          4.079113006591797,
          -0.4414246082305908,
          -0.5937063097953796,
          0.595594048500061,
          -13.272383689880371,
          17.650733947753906,
          9.390746116638184,
          9.51138973236084,
          -7.336496829986572,
          -8.303606986999512,
          -14.991178512573242,
          6.1448893547058105,
          -12.954617500305176,
          -7.8264055252075195,
          -12.014309883117676,
          -6.214000225067139,
          -16.628543853759766,
          16.574094772338867,
          13.132431983947754,
          -13.725605964660645,
          9.103981018066406,
          7.808239936828613,
          -8.486115455627441,
          3.5394442081451416,
          5.239304065704346,
          -0.28670158982276917,
          -1.4759550094604492,
          4.019610404968262,
          -6.694762229919434,
          1.2757246494293213,
          0.8273610472679138,
          -1.064683437347412,
          2.0499086380004883,
          -1.01149320602417,
          0.44423994421958923,
          2.541964292526245,
          17.61057472229004,
          17.584850311279297,
          17.471784591674805,
          17.489900588989258,
          9.799989700317383,
          8.965304374694824,
          4.8586344718933105,
          1.263265609741211,
          -8.87727165222168,
          -0.28704139590263367,
          0.9358963370323181,
          -0.37389859557151794,
          -6.776826858520508,
          -2.134277582168579,
          6.7705512046813965,
          0.36478883028030396,
          -12.244258880615234,
          3.3915061950683594,
          9.507282257080078,
          -1.7742533683776855,
          2.2491912841796875,
          -0.832231879234314,
          -0.3173333406448364,
          -1.738591194152832,
          0.26196327805519104,
          -13.819987297058105,
          0.13548921048641205,
          0.2114262878894806,
          14.12118911743164,
          2.867183208465576,
          6.288981914520264,
          -0.3077491521835327,
          3.5826613903045654,
          4.111325740814209,
          4.797527313232422,
          4.034969806671143,
          3.8478200435638428,
          3.9943385124206543,
          -5.876461982727051,
          3.1088225841522217,
          1.9304547309875488,
          -5.425593376159668,
          1.815979242324829,
          0.37572184205055237,
          1.5331722497940063,
          4.649388313293457,
          0.09736444801092148,
          -1.3581398725509644,
          4.772894859313965,
          0.6831020712852478,
          2.1256942749023438,
          1.7226076126098633,
          5.679293632507324,
          -10.30729866027832,
          -9.909628868103027,
          -10.050929069519043,
          10.297701835632324,
          -9.070353507995605,
          1.6329401731491089,
          2.5991787910461426,
          -1.817744255065918,
          -0.9892644882202148,
          11.843334197998047,
          -1.949953556060791,
          -1.0080426931381226,
          1.3978207111358643,
          -2.0150082111358643,
          3.2713780403137207,
          -3.9386937618255615,
          6.138186931610107,
          -1.4971011877059937,
          -2.032417058944702,
          -3.989132881164551,
          3.8733506202697754,
          -14.115487098693848,
          -1.0206888914108276,
          10.979939460754395,
          2.7375149726867676,
          -14.076607704162598,
          -11.162789344787598,
          15.64143180847168,
          -13.277140617370605,
          11.275571823120117,
          -13.15425968170166,
          -0.45584580302238464,
          -13.26824951171875,
          -13.297950744628906,
          4.606004238128662,
          0.0036024823784828186,
          -0.770707905292511,
          -4.929018497467041,
          6.256836891174316,
          4.451032638549805,
          5.888052940368652,
          -3.220606803894043,
          0.5574014186859131,
          -1.629185676574707,
          -3.1050662994384766,
          1.6975969076156616,
          -1.7515984773635864,
          -0.43794262409210205,
          3.214008331298828,
          -6.768263339996338,
          -1.0324604511260986,
          -6.770816802978516,
          -1.815331220626831,
          -4.0918803215026855,
          -6.482213497161865,
          -4.232244491577148,
          -1.878820776939392,
          8.218570709228516,
          -12.34875774383545,
          -1.0021473169326782,
          -5.6878509521484375,
          -9.738965034484863,
          -1.909325122833252,
          5.517807960510254,
          4.87925910949707,
          12.143790245056152,
          -14.474575996398926,
          -14.074243545532227,
          -0.1158541589975357,
          -6.0721259117126465,
          4.835182189941406,
          1.0149314403533936,
          -6.237457275390625,
          4.920185565948486,
          -0.6390403509140015,
          -0.06698700040578842,
          3.9757134914398193,
          3.883748769760132,
          -4.305561542510986,
          -1.2256920337677002,
          -3.514431953430176,
          1.89060640335083,
          1.8788495063781738,
          -0.5526063442230225,
          1.9016163349151611,
          -2.586291551589966,
          -3.5308125019073486,
          0.5369687080383301,
          3.8575189113616943,
          -1.9068183898925781,
          11.854288101196289,
          4.149144172668457,
          4.286434173583984,
          4.0247273445129395,
          4.264647960662842,
          -1.4454076290130615,
          -6.283140659332275,
          -6.1214375495910645,
          -9.026742935180664,
          -14.730692863464355,
          -13.83869457244873,
          -14.1969633102417,
          -2.519718647003174,
          7.601722717285156,
          1.4540810585021973,
          -5.565414905548096,
          -6.147207260131836,
          -6.09844970703125,
          -7.5022149085998535,
          -6.022811412811279,
          -7.180186748504639,
          0.5747332572937012,
          -6.537850379943848,
          4.680225372314453,
          12.465166091918945,
          -5.085358142852783,
          -11.3768892288208,
          -11.833781242370605,
          3.7400002479553223,
          12.603898048400879,
          11.970093727111816,
          13.04581356048584,
          -11.930171012878418,
          -11.151305198669434,
          -5.855439186096191,
          -2.0444812774658203,
          -2.155113935470581,
          0.801298201084137,
          0.800843358039856,
          -0.3976767957210541,
          1.3678348064422607,
          3.752790689468384,
          0.9471344947814941,
          2.7342007160186768,
          -2.0161659717559814,
          -2.0298612117767334,
          11.922038078308105,
          -11.284309387207031,
          4.024771213531494,
          4.355450630187988,
          -12.668549537658691,
          2.5737709999084473,
          8.849331855773926,
          -6.076416492462158,
          2.594683885574341,
          -13.882623672485352
         ],
         "mode": "markers",
         "xaxis": "x",
         "marker": {
          "color": [
           4,
           1,
           4,
           2,
           2,
           0,
           0,
           1,
           2,
           0,
           0,
           0,
           1,
           4,
           4,
           4,
           4,
           4,
           3,
           1,
           3,
           3,
           4,
           1,
           2,
           3,
           1,
           2,
           4,
           0,
           0,
           0,
           0,
           3,
           0,
           3,
           3,
           2,
           3,
           1,
           4,
           2,
           0,
           4,
           0,
           1,
           1,
           1,
           2,
           2,
           3,
           3,
           3,
           3,
           0,
           3,
           3,
           1,
           3,
           2,
           3,
           3,
           3,
           3,
           2,
           2,
           2,
           0,
           1,
           0,
           2,
           4,
           1,
           3,
           2,
           4,
           4,
           2,
           2,
           0,
           0,
           1,
           1,
           4,
           1,
           1,
           0,
           0,
           0,
           0,
           0,
           0,
           0,
           0,
           4,
           3,
           3,
           2,
           1,
           1,
           4,
           0,
           1,
           4,
           1,
           4,
           4,
           3,
           3,
           4,
           3,
           3,
           1,
           2,
           2,
           0,
           2,
           2,
           4,
           2,
           0,
           0,
           0,
           0,
           0,
           0,
           3,
           3,
           3,
           3,
           2,
           2,
           3,
           2,
           1,
           2,
           2,
           2,
           4,
           0,
           3,
           2,
           4,
           2,
           3,
           2,
           0,
           0,
           0,
           0,
           0,
           4,
           0,
           0,
           3,
           0,
           2,
           2,
           2,
           2,
           2,
           2,
           2,
           2,
           4,
           0,
           0,
           4,
           0,
           0,
           0,
           0,
           0,
           0,
           0,
           0,
           0,
           0,
           2,
           1,
           1,
           1,
           3,
           4,
           2,
           0,
           0,
           0,
           3,
           0,
           0,
           0,
           0,
           0,
           1,
           3,
           2,
           0,
           1,
           0,
           1,
           0,
           3,
           0,
           1,
           1,
           3,
           1,
           3,
           1,
           2,
           1,
           1,
           3,
           0,
           0,
           4,
           3,
           3,
           3,
           0,
           2,
           0,
           0,
           0,
           2,
           2,
           0,
           4,
           2,
           4,
           2,
           0,
           4,
           1,
           2,
           3,
           4,
           0,
           4,
           1,
           0,
           2,
           2,
           3,
           4,
           4,
           0,
           1,
           0,
           0,
           1,
           0,
           0,
           2,
           2,
           0,
           0,
           0,
           0,
           0,
           0,
           0,
           0,
           0,
           0,
           0,
           0,
           0,
           3,
           3,
           3,
           3,
           0,
           0,
           1,
           4,
           4,
           4,
           4,
           4,
           2,
           0,
           2,
           4,
           1,
           1,
           1,
           1,
           1,
           0,
           1,
           0,
           3,
           4,
           4,
           4,
           2,
           3,
           3,
           3,
           4,
           4,
           1,
           0,
           0,
           0,
           0,
           0,
           0,
           0,
           0,
           0,
           0,
           0,
           3,
           4,
           2,
           0,
           4,
           2,
           3,
           4,
           2,
           4
          ],
          "symbol": "circle",
          "coloraxis": "coloraxis"
         },
         "x": [
          -2.9372875690460205,
          10.916789054870605,
          -9.600401878356934,
          8.3569974899292,
          3.1872804164886475,
          -8.502812385559082,
          -6.792483329772949,
          0.4845201075077057,
          3.135164260864258,
          -6.123666286468506,
          -6.6195478439331055,
          -6.685798168182373,
          6.9799041748046875,
          -8.171218872070312,
          -0.5235702991485596,
          -0.14601081609725952,
          -9.657553672790527,
          -1.137742042541504,
          1.2710464000701904,
          4.245608806610107,
          -1.4538441896438599,
          -5.180370807647705,
          -1.3498773574829102,
          3.920069694519043,
          2.4153337478637695,
          2.606571674346924,
          2.7021830081939697,
          6.984222412109375,
          -8.485457420349121,
          -7.544137001037598,
          -7.305569171905518,
          -3.1854255199432373,
          -0.9084989428520203,
          -0.261910617351532,
          -0.12299543619155884,
          -0.46718382835388184,
          5.1353559494018555,
          5.300141334533691,
          5.160083770751953,
          1.8414231538772583,
          -2.0501770973205566,
          4.54994535446167,
          -9.121583938598633,
          -7.571624279022217,
          -4.480783939361572,
          3.3658695220947266,
          2.944370985031128,
          3.08809232711792,
          12.830533027648926,
          4.1046247482299805,
          -3.2998034954071045,
          -1.7598050832748413,
          1.8547983169555664,
          -3.4228909015655518,
          -11.335227966308594,
          1.8091613054275513,
          -3.9635674953460693,
          6.39951753616333,
          -2.810246706008911,
          7.157902240753174,
          -0.8505095839500427,
          2.3847742080688477,
          -0.8552097678184509,
          -0.8685203790664673,
          3.4444048404693604,
          7.095394611358643,
          5.2962822914123535,
          -7.191098690032959,
          0.28024598956108093,
          -2.871811628341675,
          4.1575541496276855,
          -2.0904693603515625,
          4.513809680938721,
          1.0398874282836914,
          13.822091102600098,
          -3.592771053314209,
          -8.815970420837402,
          4.850050449371338,
          4.914638996124268,
          -6.863860130310059,
          -5.7210259437561035,
          6.974922180175781,
          3.7785160541534424,
          -8.804326057434082,
          3.912806987762451,
          3.9269979000091553,
          -5.19057559967041,
          -7.902585029602051,
          -5.967901706695557,
          -4.550359725952148,
          -0.6900317668914795,
          -4.583070755004883,
          -2.188673257827759,
          0.173540860414505,
          -6.859859466552734,
          -1.9246755838394165,
          -6.226781845092773,
          8.564789772033691,
          10.690013885498047,
          9.426290512084961,
          -5.004609107971191,
          -10.407076835632324,
          3.8260746002197266,
          -7.305187702178955,
          4.302425861358643,
          -11.090325355529785,
          -8.190622329711914,
          1.268121600151062,
          -3.9512650966644287,
          -5.325435161590576,
          -5.818599224090576,
          4.126500129699707,
          8.990764617919922,
          4.6067962646484375,
          13.237664222717285,
          -10.227736473083496,
          8.816685676574707,
          12.548966407775879,
          -6.663365840911865,
          6.670619487762451,
          -6.084381580352783,
          -4.6490254402160645,
          -5.862896919250488,
          -4.6482038497924805,
          -1.443305492401123,
          1.4116275310516357,
          -2.0883066654205322,
          -2.639373540878296,
          -3.428644895553589,
          -2.900926351547241,
          8.344378471374512,
          8.901153564453125,
          -1.157481074333191,
          7.273533821105957,
          1.8114103078842163,
          7.334082126617432,
          7.248356819152832,
          7.3448028564453125,
          -1.614672064781189,
          0.46665313839912415,
          1.348492980003357,
          3.618605375289917,
          -5.551397323608398,
          9.195938110351562,
          -0.20829908549785614,
          12.30743408203125,
          0.8611895442008972,
          -5.347943305969238,
          -2.870948076248169,
          -5.420074462890625,
          -7.174277305603027,
          -1.4598726034164429,
          0.605475902557373,
          -7.237763404846191,
          -0.3576027452945709,
          -0.17153649032115936,
          9.31142520904541,
          8.425649642944336,
          13.13766860961914,
          13.131733894348145,
          13.309934616088867,
          11.328783988952637,
          13.369484901428223,
          12.90237045288086,
          -1.6351654529571533,
          -0.37720853090286255,
          -0.29517802596092224,
          -1.6097607612609863,
          -0.26831963658332825,
          -0.6593273878097534,
          0.02394210919737816,
          -4.063387393951416,
          -0.6902294754981995,
          -9.627745628356934,
          -8.667767524719238,
          -1.1298377513885498,
          -0.798877477645874,
          0.19066737592220306,
          6.400120258331299,
          5.196898460388184,
          5.638548374176025,
          5.540247440338135,
          0.6005023717880249,
          -5.259732246398926,
          8.575787544250488,
          0.8732870817184448,
          -4.797235012054443,
          -3.0948374271392822,
          5.374339580535889,
          -0.46864965558052063,
          -3.081761121749878,
          -6.4701948165893555,
          -0.5023137331008911,
          -5.915013313293457,
          0.5602041482925415,
          3.2174997329711914,
          4.969996929168701,
          -8.46799087524414,
          2.3695850372314453,
          -11.283042907714844,
          4.038660049438477,
          -13.148301124572754,
          -2.4386565685272217,
          -11.915725708007812,
          4.022919178009033,
          1.1850857734680176,
          -3.262401819229126,
          8.776002883911133,
          0.3919624388217926,
          0.5985518097877502,
          14.809170722961426,
          8.731891632080078,
          8.71202564239502,
          -0.1577974259853363,
          0.36401456594467163,
          -1.6812015771865845,
          -2.6884772777557373,
          -2.6458370685577393,
          2.061326026916504,
          0.904501736164093,
          -6.3513054847717285,
          3.3192238807678223,
          -1.1492486000061035,
          -6.197114944458008,
          -5.16144323348999,
          12.218118667602539,
          5.2732253074646,
          -2.9862680435180664,
          -4.485461235046387,
          5.940408706665039,
          -4.482028484344482,
          12.080360412597656,
          -8.451982498168945,
          -4.967761516571045,
          4.500406265258789,
          4.2945637702941895,
          -4.875603199005127,
          -1.5623730421066284,
          -0.06647519767284393,
          -1.9135526418685913,
          4.467905044555664,
          1.4804775714874268,
          5.4286932945251465,
          5.888614177703857,
          1.6045317649841309,
          -9.74888801574707,
          -3.7855024337768555,
          -4.949357986450195,
          2.6067471504211426,
          -4.920042514801025,
          -2.8549697399139404,
          2.5850155353546143,
          -4.59354829788208,
          -2.2903990745544434,
          7.939945697784424,
          3.789747953414917,
          -9.864108085632324,
          -5.23264741897583,
          -6.188985347747803,
          -4.783688545227051,
          -3.1111011505126953,
          -6.826952934265137,
          1.7322055101394653,
          -6.840031623840332,
          -1.6776596307754517,
          -4.7651848793029785,
          1.5929656028747559,
          -9.95391845703125,
          -2.203307628631592,
          5.289322853088379,
          1.3942731618881226,
          1.2383531332015991,
          1.4334006309509277,
          -9.395703315734863,
          -4.533645153045654,
          11.00741958618164,
          -10.169106483459473,
          -3.531378746032715,
          -9.79202651977539,
          -1.6598165035247803,
          -4.117493152618408,
          6.297008991241455,
          -9.932920455932617,
          8.708246231079102,
          -1.4153108596801758,
          0.9952690601348877,
          0.14924615621566772,
          1.9693806171417236,
          0.3858340382575989,
          2.359377384185791,
          -0.9830889701843262,
          0.9890416264533997,
          -3.6754212379455566,
          1.281448483467102,
          -14.510427474975586,
          -9.293219566345215,
          -9.682613372802734,
          3.3604702949523926,
          1.3431715965270996,
          4.764082908630371,
          4.884815692901611,
          -4.6428632736206055,
          -8.963276863098145,
          5.76334285736084,
          -3.516091823577881,
          -3.039395570755005,
          -4.070921897888184,
          -7.307550430297852,
          -6.070925712585449,
          1.2266292572021484,
          -0.03488764539361,
          -6.951417922973633,
          -6.8464131355285645,
          -5.543612480163574,
          -11.138635635375977,
          4.372286319732666,
          -1.1262344121932983,
          7.334630012512207,
          -2.4990074634552,
          -5.090442657470703,
          12.870166778564453,
          -5.1080498695373535,
          -8.912108421325684,
          12.874693870544434,
          -4.0958147048950195
         ],
         "type": "scatter",
         "orientation": "v"
        }
       ],
       "config": {
        "plotlyServerURL": "https://plot.ly"
       },
       "layout": {
        "template": {
         "layout": {
          "shapedefaults": {
           "line": {
            "color": "#2a3f5f"
           }
          },
          "polar": {
           "radialaxis": {
            "ticks": "",
            "gridcolor": "white",
            "linecolor": "white"
           },
           "bgcolor": "#E5ECF6",
           "angularaxis": {
            "ticks": "",
            "gridcolor": "white",
            "linecolor": "white"
           }
          },
          "colorway": [
           "#636efa",
           "#EF553B",
           "#00cc96",
           "#ab63fa",
           "#FFA15A",
           "#19d3f3",
           "#FF6692",
           "#B6E880",
           "#FF97FF",
           "#FECB52"
          ],
          "xaxis": {
           "automargin": true,
           "title": {
            "standoff": 15
           },
           "zerolinewidth": 2,
           "ticks": "",
           "zerolinecolor": "white",
           "gridcolor": "white",
           "linecolor": "white"
          },
          "colorscale": {
           "diverging": [
            [
             0,
             "#8e0152"
            ],
            [
             0.1,
             "#c51b7d"
            ],
            [
             0.2,
             "#de77ae"
            ],
            [
             0.3,
             "#f1b6da"
            ],
            [
             0.4,
             "#fde0ef"
            ],
            [
             0.5,
             "#f7f7f7"
            ],
            [
             0.6,
             "#e6f5d0"
            ],
            [
             0.7,
             "#b8e186"
            ],
            [
             0.8,
             "#7fbc41"
            ],
            [
             0.9,
             "#4d9221"
            ],
            [
             1,
             "#276419"
            ]
           ],
           "sequential": [
            [
             0,
             "#0d0887"
            ],
            [
             0.1111111111111111,
             "#46039f"
            ],
            [
             0.2222222222222222,
             "#7201a8"
            ],
            [
             0.3333333333333333,
             "#9c179e"
            ],
            [
             0.4444444444444444,
             "#bd3786"
            ],
            [
             0.5555555555555556,
             "#d8576b"
            ],
            [
             0.6666666666666666,
             "#ed7953"
            ],
            [
             0.7777777777777778,
             "#fb9f3a"
            ],
            [
             0.8888888888888888,
             "#fdca26"
            ],
            [
             1,
             "#f0f921"
            ]
           ],
           "sequentialminus": [
            [
             0,
             "#0d0887"
            ],
            [
             0.1111111111111111,
             "#46039f"
            ],
            [
             0.2222222222222222,
             "#7201a8"
            ],
            [
             0.3333333333333333,
             "#9c179e"
            ],
            [
             0.4444444444444444,
             "#bd3786"
            ],
            [
             0.5555555555555556,
             "#d8576b"
            ],
            [
             0.6666666666666666,
             "#ed7953"
            ],
            [
             0.7777777777777778,
             "#fb9f3a"
            ],
            [
             0.8888888888888888,
             "#fdca26"
            ],
            [
             1,
             "#f0f921"
            ]
           ]
          },
          "paper_bgcolor": "white",
          "plot_bgcolor": "#E5ECF6",
          "title": {
           "x": 0.05
          },
          "scene": {
           "zaxis": {
            "backgroundcolor": "#E5ECF6",
            "ticks": "",
            "gridwidth": 2,
            "showbackground": true,
            "zerolinecolor": "white",
            "gridcolor": "white",
            "linecolor": "white"
           },
           "xaxis": {
            "backgroundcolor": "#E5ECF6",
            "ticks": "",
            "gridwidth": 2,
            "showbackground": true,
            "zerolinecolor": "white",
            "gridcolor": "white",
            "linecolor": "white"
           },
           "yaxis": {
            "backgroundcolor": "#E5ECF6",
            "ticks": "",
            "gridwidth": 2,
            "showbackground": true,
            "zerolinecolor": "white",
            "gridcolor": "white",
            "linecolor": "white"
           }
          },
          "yaxis": {
           "automargin": true,
           "title": {
            "standoff": 15
           },
           "zerolinewidth": 2,
           "ticks": "",
           "zerolinecolor": "white",
           "gridcolor": "white",
           "linecolor": "white"
          },
          "annotationdefaults": {
           "arrowwidth": 1,
           "arrowhead": 0,
           "arrowcolor": "#2a3f5f"
          },
          "hoverlabel": {
           "align": "left"
          },
          "ternary": {
           "bgcolor": "#E5ECF6",
           "baxis": {
            "ticks": "",
            "gridcolor": "white",
            "linecolor": "white"
           },
           "caxis": {
            "ticks": "",
            "gridcolor": "white",
            "linecolor": "white"
           },
           "aaxis": {
            "ticks": "",
            "gridcolor": "white",
            "linecolor": "white"
           }
          },
          "mapbox": {
           "style": "light"
          },
          "hovermode": "closest",
          "font": {
           "color": "#2a3f5f"
          },
          "geo": {
           "showland": true,
           "landcolor": "#E5ECF6",
           "showlakes": true,
           "bgcolor": "white",
           "subunitcolor": "white",
           "lakecolor": "white"
          },
          "coloraxis": {
           "colorbar": {
            "outlinewidth": 0,
            "ticks": ""
           }
          }
         },
         "data": {
          "mesh3d": [
           {
            "colorbar": {
             "outlinewidth": 0,
             "ticks": ""
            },
            "type": "mesh3d"
           }
          ],
          "scattercarpet": [
           {
            "marker": {
             "colorbar": {
              "outlinewidth": 0,
              "ticks": ""
             }
            },
            "type": "scattercarpet"
           }
          ],
          "pie": [
           {
            "automargin": true,
            "type": "pie"
           }
          ],
          "surface": [
           {
            "colorbar": {
             "outlinewidth": 0,
             "ticks": ""
            },
            "type": "surface",
            "colorscale": [
             [
              0,
              "#0d0887"
             ],
             [
              0.1111111111111111,
              "#46039f"
             ],
             [
              0.2222222222222222,
              "#7201a8"
             ],
             [
              0.3333333333333333,
              "#9c179e"
             ],
             [
              0.4444444444444444,
              "#bd3786"
             ],
             [
              0.5555555555555556,
              "#d8576b"
             ],
             [
              0.6666666666666666,
              "#ed7953"
             ],
             [
              0.7777777777777778,
              "#fb9f3a"
             ],
             [
              0.8888888888888888,
              "#fdca26"
             ],
             [
              1,
              "#f0f921"
             ]
            ]
           }
          ],
          "table": [
           {
            "header": {
             "line": {
              "color": "white"
             },
             "fill": {
              "color": "#C8D4E3"
             }
            },
            "cells": {
             "line": {
              "color": "white"
             },
             "fill": {
              "color": "#EBF0F8"
             }
            },
            "type": "table"
           }
          ],
          "scatterpolargl": [
           {
            "marker": {
             "colorbar": {
              "outlinewidth": 0,
              "ticks": ""
             }
            },
            "type": "scatterpolargl"
           }
          ],
          "contour": [
           {
            "colorbar": {
             "outlinewidth": 0,
             "ticks": ""
            },
            "type": "contour",
            "colorscale": [
             [
              0,
              "#0d0887"
             ],
             [
              0.1111111111111111,
              "#46039f"
             ],
             [
              0.2222222222222222,
              "#7201a8"
             ],
             [
              0.3333333333333333,
              "#9c179e"
             ],
             [
              0.4444444444444444,
              "#bd3786"
             ],
             [
              0.5555555555555556,
              "#d8576b"
             ],
             [
              0.6666666666666666,
              "#ed7953"
             ],
             [
              0.7777777777777778,
              "#fb9f3a"
             ],
             [
              0.8888888888888888,
              "#fdca26"
             ],
             [
              1,
              "#f0f921"
             ]
            ]
           }
          ],
          "carpet": [
           {
            "type": "carpet",
            "baxis": {
             "minorgridcolor": "white",
             "gridcolor": "white",
             "linecolor": "white",
             "endlinecolor": "#2a3f5f",
             "startlinecolor": "#2a3f5f"
            },
            "aaxis": {
             "minorgridcolor": "white",
             "gridcolor": "white",
             "linecolor": "white",
             "endlinecolor": "#2a3f5f",
             "startlinecolor": "#2a3f5f"
            }
           }
          ],
          "contourcarpet": [
           {
            "colorbar": {
             "outlinewidth": 0,
             "ticks": ""
            },
            "type": "contourcarpet"
           }
          ],
          "heatmap": [
           {
            "colorbar": {
             "outlinewidth": 0,
             "ticks": ""
            },
            "type": "heatmap",
            "colorscale": [
             [
              0,
              "#0d0887"
             ],
             [
              0.1111111111111111,
              "#46039f"
             ],
             [
              0.2222222222222222,
              "#7201a8"
             ],
             [
              0.3333333333333333,
              "#9c179e"
             ],
             [
              0.4444444444444444,
              "#bd3786"
             ],
             [
              0.5555555555555556,
              "#d8576b"
             ],
             [
              0.6666666666666666,
              "#ed7953"
             ],
             [
              0.7777777777777778,
              "#fb9f3a"
             ],
             [
              0.8888888888888888,
              "#fdca26"
             ],
             [
              1,
              "#f0f921"
             ]
            ]
           }
          ],
          "scattermapbox": [
           {
            "marker": {
             "colorbar": {
              "outlinewidth": 0,
              "ticks": ""
             }
            },
            "type": "scattermapbox"
           }
          ],
          "scatter3d": [
           {
            "marker": {
             "colorbar": {
              "outlinewidth": 0,
              "ticks": ""
             }
            },
            "line": {
             "colorbar": {
              "outlinewidth": 0,
              "ticks": ""
             }
            },
            "type": "scatter3d"
           }
          ],
          "scattergl": [
           {
            "marker": {
             "colorbar": {
              "outlinewidth": 0,
              "ticks": ""
             }
            },
            "type": "scattergl"
           }
          ],
          "scatterternary": [
           {
            "marker": {
             "colorbar": {
              "outlinewidth": 0,
              "ticks": ""
             }
            },
            "type": "scatterternary"
           }
          ],
          "histogram": [
           {
            "marker": {
             "colorbar": {
              "outlinewidth": 0,
              "ticks": ""
             }
            },
            "type": "histogram"
           }
          ],
          "heatmapgl": [
           {
            "colorbar": {
             "outlinewidth": 0,
             "ticks": ""
            },
            "type": "heatmapgl",
            "colorscale": [
             [
              0,
              "#0d0887"
             ],
             [
              0.1111111111111111,
              "#46039f"
             ],
             [
              0.2222222222222222,
              "#7201a8"
             ],
             [
              0.3333333333333333,
              "#9c179e"
             ],
             [
              0.4444444444444444,
              "#bd3786"
             ],
             [
              0.5555555555555556,
              "#d8576b"
             ],
             [
              0.6666666666666666,
              "#ed7953"
             ],
             [
              0.7777777777777778,
              "#fb9f3a"
             ],
             [
              0.8888888888888888,
              "#fdca26"
             ],
             [
              1,
              "#f0f921"
             ]
            ]
           }
          ],
          "scatterpolar": [
           {
            "marker": {
             "colorbar": {
              "outlinewidth": 0,
              "ticks": ""
             }
            },
            "type": "scatterpolar"
           }
          ],
          "histogram2d": [
           {
            "colorbar": {
             "outlinewidth": 0,
             "ticks": ""
            },
            "type": "histogram2d",
            "colorscale": [
             [
              0,
              "#0d0887"
             ],
             [
              0.1111111111111111,
              "#46039f"
             ],
             [
              0.2222222222222222,
              "#7201a8"
             ],
             [
              0.3333333333333333,
              "#9c179e"
             ],
             [
              0.4444444444444444,
              "#bd3786"
             ],
             [
              0.5555555555555556,
              "#d8576b"
             ],
             [
              0.6666666666666666,
              "#ed7953"
             ],
             [
              0.7777777777777778,
              "#fb9f3a"
             ],
             [
              0.8888888888888888,
              "#fdca26"
             ],
             [
              1,
              "#f0f921"
             ]
            ]
           }
          ],
          "scattergeo": [
           {
            "marker": {
             "colorbar": {
              "outlinewidth": 0,
              "ticks": ""
             }
            },
            "type": "scattergeo"
           }
          ],
          "bar": [
           {
            "marker": {
             "line": {
              "color": "#E5ECF6",
              "width": 0.5
             }
            },
            "type": "bar",
            "error_x": {
             "color": "#2a3f5f"
            },
            "error_y": {
             "color": "#2a3f5f"
            }
           }
          ],
          "choropleth": [
           {
            "colorbar": {
             "outlinewidth": 0,
             "ticks": ""
            },
            "type": "choropleth"
           }
          ],
          "parcoords": [
           {
            "line": {
             "colorbar": {
              "outlinewidth": 0,
              "ticks": ""
             }
            },
            "type": "parcoords"
           }
          ],
          "barpolar": [
           {
            "marker": {
             "line": {
              "color": "#E5ECF6",
              "width": 0.5
             }
            },
            "type": "barpolar"
           }
          ],
          "histogram2dcontour": [
           {
            "colorbar": {
             "outlinewidth": 0,
             "ticks": ""
            },
            "type": "histogram2dcontour",
            "colorscale": [
             [
              0,
              "#0d0887"
             ],
             [
              0.1111111111111111,
              "#46039f"
             ],
             [
              0.2222222222222222,
              "#7201a8"
             ],
             [
              0.3333333333333333,
              "#9c179e"
             ],
             [
              0.4444444444444444,
              "#bd3786"
             ],
             [
              0.5555555555555556,
              "#d8576b"
             ],
             [
              0.6666666666666666,
              "#ed7953"
             ],
             [
              0.7777777777777778,
              "#fb9f3a"
             ],
             [
              0.8888888888888888,
              "#fdca26"
             ],
             [
              1,
              "#f0f921"
             ]
            ]
           }
          ],
          "scatter": [
           {
            "marker": {
             "colorbar": {
              "outlinewidth": 0,
              "ticks": ""
             }
            },
            "type": "scatter"
           }
          ]
         }
        },
        "title": {
         "text": "Question embeddings"
        },
        "yaxis": {
         "domain": [
          0,
          1
         ],
         "anchor": "x",
         "title": {
          "text": "y"
         }
        },
        "xaxis": {
         "domain": [
          0,
          1
         ],
         "anchor": "y",
         "title": {
          "text": "x"
         }
        },
        "legend": {
         "tracegroupgap": 0
        },
        "coloraxis": {
         "colorbar": {
          "title": {
           "text": "color"
          }
         },
         "colorscale": [
          [
           0,
           "#0d0887"
          ],
          [
           0.1111111111111111,
           "#46039f"
          ],
          [
           0.2222222222222222,
           "#7201a8"
          ],
          [
           0.3333333333333333,
           "#9c179e"
          ],
          [
           0.4444444444444444,
           "#bd3786"
          ],
          [
           0.5555555555555556,
           "#d8576b"
          ],
          [
           0.6666666666666666,
           "#ed7953"
          ],
          [
           0.7777777777777778,
           "#fb9f3a"
          ],
          [
           0.8888888888888888,
           "#fdca26"
          ],
          [
           1,
           "#f0f921"
          ]
         ]
        }
       }
      }
     },
     "metadata": {}
    },
    {
     "output_type": "execute_result",
     "data": {
      "text/plain": "'2d_tsne.html'"
     },
     "metadata": {},
     "execution_count": 103
    }
   ],
   "source": [
    "from sklearn.manifold import TSNE\n",
    "import plotly.express as px\n",
    "import plotly\n",
    "import matplotlib.pyplot as plt\n",
    "import sklearn.cluster as sk\n",
    "from mpl_toolkits.mplot3d import Axes3D \n",
    "\n",
    "num_clusters = 5\n",
    "\n",
    "tsne = TSNE(n_components=2,verbose=1, perplexity=40, n_iter=300, random_state=510)\n",
    "node_embeddings = tsne.fit_transform(np.array(embeddings))\n",
    "\n",
    "kmeans = sk.KMeans(n_clusters=num_clusters, max_iter =30)\n",
    "kmeans.fit(node_embeddings)\n",
    "\n",
    "labels = kmeans.predict(node_embeddings)\n",
    "centers = kmeans.cluster_centers_\n",
    "\n",
    "res['x'] = node_embeddings[:,0]\n",
    "res['y'] = node_embeddings[:,1]\n",
    "\n",
    "fig_2d = px.scatter(res, x=\"x\", y=\"y\", title= \"Question embeddings\", hover_data=[\"id\",\"class\", \"question\"], color= labels)\n",
    "fig_2d.show()\n",
    "\n",
    "plotly.offline.plot(fig_2d, filename='2d_tsne.html')"
   ]
  },
  {
   "cell_type": "code",
   "execution_count": 106,
   "metadata": {},
   "outputs": [
    {
     "output_type": "execute_result",
     "data": {
      "text/html": "<div>\n<style scoped>\n    .dataframe tbody tr th:only-of-type {\n        vertical-align: middle;\n    }\n\n    .dataframe tbody tr th {\n        vertical-align: top;\n    }\n\n    .dataframe thead th {\n        text-align: right;\n    }\n</style>\n<table border=\"1\" class=\"dataframe\">\n  <thead>\n    <tr style=\"text-align: right;\">\n      <th></th>\n      <th>id</th>\n      <th>class</th>\n      <th>question</th>\n      <th>0</th>\n      <th>1</th>\n      <th>2</th>\n      <th>3</th>\n      <th>4</th>\n      <th>5</th>\n      <th>6</th>\n      <th>...</th>\n      <th>26</th>\n      <th>27</th>\n      <th>28</th>\n      <th>29</th>\n      <th>30</th>\n      <th>31</th>\n      <th>32</th>\n      <th>33</th>\n      <th>x</th>\n      <th>y</th>\n    </tr>\n  </thead>\n  <tbody>\n    <tr>\n      <th>0</th>\n      <td>11</td>\n      <td>11</td>\n      <td>Astrology: I am a Capricorn Sun Cap moon and c...</td>\n      <td>101</td>\n      <td>28625</td>\n      <td>6483</td>\n      <td>1024</td>\n      <td>1045</td>\n      <td>2572</td>\n      <td>1037</td>\n      <td>...</td>\n      <td>102</td>\n      <td>0</td>\n      <td>0</td>\n      <td>0</td>\n      <td>0</td>\n      <td>0</td>\n      <td>0</td>\n      <td>0</td>\n      <td>-2.937288</td>\n      <td>-4.936165</td>\n    </tr>\n    <tr>\n      <th>0</th>\n      <td>12</td>\n      <td>11</td>\n      <td>I'm a triple Capricorn (Sun, Moon and ascendan...</td>\n      <td>101</td>\n      <td>1045</td>\n      <td>1005</td>\n      <td>1049</td>\n      <td>1037</td>\n      <td>6420</td>\n      <td>6178</td>\n      <td>...</td>\n      <td>2055</td>\n      <td>2033</td>\n      <td>1029</td>\n      <td>102</td>\n      <td>0</td>\n      <td>0</td>\n      <td>0</td>\n      <td>0</td>\n      <td>10.916789</td>\n      <td>-6.665578</td>\n    </tr>\n    <tr>\n      <th>0</th>\n      <td>15</td>\n      <td>15</td>\n      <td>How can I be a good geologist?</td>\n      <td>101</td>\n      <td>2129</td>\n      <td>2064</td>\n      <td>1045</td>\n      <td>2022</td>\n      <td>1037</td>\n      <td>2204</td>\n      <td>...</td>\n      <td>0</td>\n      <td>0</td>\n      <td>0</td>\n      <td>0</td>\n      <td>0</td>\n      <td>0</td>\n      <td>0</td>\n      <td>0</td>\n      <td>-9.600402</td>\n      <td>-6.190775</td>\n    </tr>\n    <tr>\n      <th>0</th>\n      <td>16</td>\n      <td>15</td>\n      <td>What should I do to be a great geologist?</td>\n      <td>101</td>\n      <td>2054</td>\n      <td>2323</td>\n      <td>1045</td>\n      <td>2079</td>\n      <td>2000</td>\n      <td>2022</td>\n      <td>...</td>\n      <td>0</td>\n      <td>0</td>\n      <td>0</td>\n      <td>0</td>\n      <td>0</td>\n      <td>0</td>\n      <td>0</td>\n      <td>0</td>\n      <td>8.356997</td>\n      <td>-0.253423</td>\n    </tr>\n    <tr>\n      <th>0</th>\n      <td>23</td>\n      <td>23</td>\n      <td>How do I read and find my YouTube comments?</td>\n      <td>101</td>\n      <td>2129</td>\n      <td>2079</td>\n      <td>1045</td>\n      <td>3191</td>\n      <td>1998</td>\n      <td>2424</td>\n      <td>...</td>\n      <td>0</td>\n      <td>0</td>\n      <td>0</td>\n      <td>0</td>\n      <td>0</td>\n      <td>0</td>\n      <td>0</td>\n      <td>0</td>\n      <td>3.187280</td>\n      <td>-0.857256</td>\n    </tr>\n    <tr>\n      <th>...</th>\n      <td>...</td>\n      <td>...</td>\n      <td>...</td>\n      <td>...</td>\n      <td>...</td>\n      <td>...</td>\n      <td>...</td>\n      <td>...</td>\n      <td>...</td>\n      <td>...</td>\n      <td>...</td>\n      <td>...</td>\n      <td>...</td>\n      <td>...</td>\n      <td>...</td>\n      <td>...</td>\n      <td>...</td>\n      <td>...</td>\n      <td>...</td>\n      <td>...</td>\n      <td>...</td>\n    </tr>\n    <tr>\n      <th>0</th>\n      <td>135605</td>\n      <td>1829</td>\n      <td>Why do Indian Muslims hate Modi?</td>\n      <td>101</td>\n      <td>2339</td>\n      <td>2079</td>\n      <td>2796</td>\n      <td>7486</td>\n      <td>5223</td>\n      <td>16913</td>\n      <td>...</td>\n      <td>0</td>\n      <td>0</td>\n      <td>0</td>\n      <td>0</td>\n      <td>0</td>\n      <td>0</td>\n      <td>0</td>\n      <td>0</td>\n      <td>12.870167</td>\n      <td>2.573771</td>\n    </tr>\n    <tr>\n      <th>0</th>\n      <td>186640</td>\n      <td>1829</td>\n      <td>Why do Indian Muslims hate P.M. Narendra Modi?</td>\n      <td>101</td>\n      <td>2339</td>\n      <td>2079</td>\n      <td>2796</td>\n      <td>7486</td>\n      <td>5223</td>\n      <td>1052</td>\n      <td>...</td>\n      <td>0</td>\n      <td>0</td>\n      <td>0</td>\n      <td>0</td>\n      <td>0</td>\n      <td>0</td>\n      <td>0</td>\n      <td>0</td>\n      <td>-5.108050</td>\n      <td>8.849332</td>\n    </tr>\n    <tr>\n      <th>0</th>\n      <td>68879</td>\n      <td>1829</td>\n      <td>Is it true all Muslims hate Modi?</td>\n      <td>101</td>\n      <td>2003</td>\n      <td>2009</td>\n      <td>2995</td>\n      <td>2035</td>\n      <td>7486</td>\n      <td>5223</td>\n      <td>...</td>\n      <td>0</td>\n      <td>0</td>\n      <td>0</td>\n      <td>0</td>\n      <td>0</td>\n      <td>0</td>\n      <td>0</td>\n      <td>0</td>\n      <td>-8.912108</td>\n      <td>-6.076416</td>\n    </tr>\n    <tr>\n      <th>0</th>\n      <td>68880</td>\n      <td>1829</td>\n      <td>Why does many Muslims hate Modi?</td>\n      <td>101</td>\n      <td>2339</td>\n      <td>2515</td>\n      <td>2116</td>\n      <td>7486</td>\n      <td>5223</td>\n      <td>16913</td>\n      <td>...</td>\n      <td>0</td>\n      <td>0</td>\n      <td>0</td>\n      <td>0</td>\n      <td>0</td>\n      <td>0</td>\n      <td>0</td>\n      <td>0</td>\n      <td>12.874694</td>\n      <td>2.594684</td>\n    </tr>\n    <tr>\n      <th>0</th>\n      <td>195370</td>\n      <td>1829</td>\n      <td>Are Indian Muslims against P.M Narendra Modi? ...</td>\n      <td>101</td>\n      <td>2024</td>\n      <td>2796</td>\n      <td>7486</td>\n      <td>2114</td>\n      <td>1052</td>\n      <td>1012</td>\n      <td>...</td>\n      <td>0</td>\n      <td>0</td>\n      <td>0</td>\n      <td>0</td>\n      <td>0</td>\n      <td>0</td>\n      <td>0</td>\n      <td>0</td>\n      <td>-4.095815</td>\n      <td>-13.882624</td>\n    </tr>\n  </tbody>\n</table>\n<p>325 rows × 39 columns</p>\n</div>",
      "text/plain": "        id class                                           question    0  \\\n0       11    11  Astrology: I am a Capricorn Sun Cap moon and c...  101   \n0       12    11  I'm a triple Capricorn (Sun, Moon and ascendan...  101   \n0       15    15                     How can I be a good geologist?  101   \n0       16    15          What should I do to be a great geologist?  101   \n0       23    23        How do I read and find my YouTube comments?  101   \n..     ...   ...                                                ...  ...   \n0   135605  1829                   Why do Indian Muslims hate Modi?  101   \n0   186640  1829     Why do Indian Muslims hate P.M. Narendra Modi?  101   \n0    68879  1829                  Is it true all Muslims hate Modi?  101   \n0    68880  1829                   Why does many Muslims hate Modi?  101   \n0   195370  1829  Are Indian Muslims against P.M Narendra Modi? ...  101   \n\n        1     2     3     4     5      6  ...    26    27    28   29  30  31  \\\n0   28625  6483  1024  1045  2572   1037  ...   102     0     0    0   0   0   \n0    1045  1005  1049  1037  6420   6178  ...  2055  2033  1029  102   0   0   \n0    2129  2064  1045  2022  1037   2204  ...     0     0     0    0   0   0   \n0    2054  2323  1045  2079  2000   2022  ...     0     0     0    0   0   0   \n0    2129  2079  1045  3191  1998   2424  ...     0     0     0    0   0   0   \n..    ...   ...   ...   ...   ...    ...  ...   ...   ...   ...  ...  ..  ..   \n0    2339  2079  2796  7486  5223  16913  ...     0     0     0    0   0   0   \n0    2339  2079  2796  7486  5223   1052  ...     0     0     0    0   0   0   \n0    2003  2009  2995  2035  7486   5223  ...     0     0     0    0   0   0   \n0    2339  2515  2116  7486  5223  16913  ...     0     0     0    0   0   0   \n0    2024  2796  7486  2114  1052   1012  ...     0     0     0    0   0   0   \n\n    32  33          x          y  \n0    0   0  -2.937288  -4.936165  \n0    0   0  10.916789  -6.665578  \n0    0   0  -9.600402  -6.190775  \n0    0   0   8.356997  -0.253423  \n0    0   0   3.187280  -0.857256  \n..  ..  ..        ...        ...  \n0    0   0  12.870167   2.573771  \n0    0   0  -5.108050   8.849332  \n0    0   0  -8.912108  -6.076416  \n0    0   0  12.874694   2.594684  \n0    0   0  -4.095815 -13.882624  \n\n[325 rows x 39 columns]"
     },
     "metadata": {},
     "execution_count": 106
    }
   ],
   "source": [
    "res"
   ]
  }
 ],
 "metadata": {
  "language_info": {
   "codemirror_mode": {
    "name": "ipython",
    "version": 2
   },
   "file_extension": ".py",
   "mimetype": "text/x-python",
   "name": "python",
   "nbconvert_exporter": "python",
   "pygments_lexer": "ipython2",
   "version": "3.6.9-final"
  },
  "orig_nbformat": 2,
  "kernelspec": {
   "name": "python36964bit3f9703cefae54e4a8e8d03694f9a0867",
   "display_name": "Python 3.6.9 64-bit"
  }
 },
 "nbformat": 4,
 "nbformat_minor": 2
}