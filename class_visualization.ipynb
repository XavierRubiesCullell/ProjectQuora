{
 "cells": [
  {
   "cell_type": "code",
   "execution_count": null,
   "metadata": {},
   "outputs": [],
   "source": [
    "# files\n",
    "import utils\n",
    "\n",
    "# packages\n",
    "import numpy as np \n",
    "import pandas as pd \n",
    "import os\n",
    "import torch\n",
    "import matplotlib.pyplot as plt\n",
    "from sklearn.manifold import TSNE\n",
    "from sklearn.decomposition import PCA\n",
    "import plotly.express as px\n",
    "import plotly\n",
    "import sklearn.cluster as sk\n",
    "from transformers import BertConfig, BertForSequenceClassification, BertTokenizer\n",
    "from mpl_toolkits.mplot3d import Axes3D "
   ]
  },
  {
   "cell_type": "code",
   "execution_count": null,
   "metadata": {},
   "outputs": [],
   "source": [
    "df_train = pd.read_csv(\"data/train.csv\").fillna(\"\")\n",
    "sentences = pd.read_csv(\"data/sentences.csv\").fillna(\"\")"
   ]
  },
  {
   "cell_type": "code",
   "execution_count": null,
   "metadata": {},
   "outputs": [],
   "source": [
    "tr_qids = pd.Series(df_train['qid1'].tolist() + df_train['qid2'].tolist())\n",
    "qs_tr = pd.Series(df_train['question1'].tolist() + df_train['question2'].tolist()).astype(str)\n",
    "\n",
    "MODEL_CLASSES = {\n",
    "    'bert': (           BertForSequenceClassification,          BertTokenizer,          'bert-base-uncased')\n",
    "}\n",
    "model_class, tokenizer, pretrained_model = MODEL_CLASSES['bert']\n",
    "tokenizer = tokenizer.from_pretrained(pretrained_model)\n",
    "\n",
    "# Dictionary with unique sentences\n",
    "unique_dic = tr_qids.value_counts()"
   ]
  },
  {
   "cell_type": "code",
   "execution_count": null,
   "metadata": {},
   "outputs": [],
   "source": [
    "(class_to_nodes, node_to_class) = utils.clusters(np.array(df_train[[\"qid1\", \"qid2\",\"is_duplicate\"]]))\n",
    "print(\"There are\", len(class_to_nodes), \"different question classes\")"
   ]
  },
  {
   "cell_type": "code",
   "execution_count": null,
   "metadata": {
    "tags": [
     "outputPrepend",
     "outputPrepend",
     "outputPrepend",
     "outputPrepend",
     "outputPrepend",
     "outputPrepend",
     "outputPrepend",
     "outputPrepend",
     "outputPrepend",
     "outputPrepend"
    ]
   },
   "outputs": [],
   "source": [
    "N_sizes = 10\n",
    "N_classes = 2\n",
    "count = [N_classes]*N_sizes\n",
    "\n",
    "first = True\n",
    "for key, value in class_to_nodes.items():\n",
    "    size = len(value)\n",
    "    # Extract questions from the selected classes\n",
    "    if size >= 2 and size < N_sizes+2 and count[size-2] > 0:\n",
    "        count[size-2] -= 1\n",
    "        for val in value:\n",
    "            question = sentences.iloc[val-1,0]\n",
    "            embedding = utils.list_from_string(sentences.iloc[val-1,1])\n",
    "            # Truncate\n",
    "            if len(embedding) > 34:\n",
    "                embedding = embedding[0:34]\n",
    "            else:\n",
    "                embedding.extend([0] * (70 - len(embedding)))\n",
    "            emb = pd.DataFrame([embedding])\n",
    "            q = pd.DataFrame([val, key, question], index=[\"id\",\"class\",\"question\"]).transpose()\n",
    "            \n",
    "            if first:\n",
    "                res = pd.concat([q, emb], axis=1)\n",
    "                first = False\n",
    "            else:\n",
    "                res = res.append(pd.concat([q, emb], axis=1))"
   ]
  },
  {
   "cell_type": "code",
   "execution_count": null,
   "metadata": {},
   "outputs": [],
   "source": [
    "def draw_plot (data, method, kind, filename):\n",
    "    '''\n",
    "    Plot with dimensionality reduced embeddings in order to show the class distribution\n",
    "    - input:    data: dataframe with class, question, embeddings\n",
    "                method: TSNE or PCA\n",
    "                kind: 3D or 2D\n",
    "    . output:   plot file\n",
    "    '''\n",
    "    embeddings = np.array(data.iloc[:,3:37])\n",
    "    s = [15 for n in range(len(embeddings))]\n",
    "\n",
    "    if method == \"TSNE\":\n",
    "        if kind == \"2D\":\n",
    "            print(\"Computing \" + method + \" \" + kind + \" plot...\")\n",
    "            tsne = TSNE(n_components=2,verbose=0, perplexity=40, n_iter=300, random_state=510)\n",
    "            node_embeddings = tsne.fit_transform(embeddings)\n",
    "            data['x'] = node_embeddings[:,0]\n",
    "            data['y'] = node_embeddings[:,1]\n",
    "            \n",
    "            fig_2d = px.scatter(data, x=\"x\", y=\"y\", title= \"TSNE: Question embeddings 2D\", hover_data=[\"id\",\"class\", \"question\"], color=\"class\", size = s)\n",
    "            plotly.offline.plot(fig_2d, filename=\"plots/\"+filename)\n",
    "            print(\"-> Output created: \" + \"plots/\"+filename + \"\\n\")\n",
    "\n",
    "        elif kind == \"3D\":\n",
    "            print(\"Computing \" + method + \" \" + kind + \" plot...\")\n",
    "            tsne = TSNE(n_components= 3,verbose=0, perplexity=40, n_iter=300, random_state=510)\n",
    "            node_embeddings_3d = tsne.fit_transform(embeddings)\n",
    "\n",
    "            data['x'] = node_embeddings_3d[:,0]\n",
    "            data['y'] = node_embeddings_3d[:,1]\n",
    "            data['z'] = node_embeddings_3d[:,2]\n",
    "\n",
    "            fig_3d = px.scatter_3d(data, x=\"x\", y=\"y\", z=\"z\", title= \"TSNE: Question embeddings 3D\", hover_data=[\"id\",\"class\", \"question\"], color=\"class\")\n",
    "            plotly.offline.plot(fig_3d, filename=\"plots/\"+filename)\n",
    "            print(\"-> Output created: \" + \"plots/\"+filename + \"\\n\")\n",
    "\n",
    "    elif method == \"PCA\":\n",
    "        if kind == \"2D\":\n",
    "            print(\"Computing \" + method + \" \" + kind + \" plot...\")\n",
    "            pca = PCA(n_components=2)\n",
    "            principalComponents = pca.fit_transform(embeddings)\n",
    "\n",
    "            data['x'] = principalComponents[:,0]\n",
    "            data['y'] = principalComponents[:,1]\n",
    "\n",
    "            fig_2d = px.scatter(data, x=\"x\", y=\"y\", title= \"PCA: Question embeddings 2D\", hover_data=[\"id\",\"class\", \"question\"], color=\"class\", size = s)\n",
    "            plotly.offline.plot(fig_2d, filename=\"plots/\"+filename)\n",
    "            print(\"-> Output created: \" + \"plots/\"+filename + \"\\n\")\n",
    "\n",
    "        elif kind == \"3D\":\n",
    "            print(\"Computing \" + method + \" \" + kind + \" plot...\")\n",
    "            pca = PCA(n_components=3)\n",
    "            principalComponents = pca.fit_transform(embeddings)\n",
    "\n",
    "            data['x'] = principalComponents[:,0]\n",
    "            data['y'] = principalComponents[:,1]\n",
    "            data['z'] = principalComponents[:,2]\n",
    "\n",
    "            fig_3d = px.scatter_3d(data, x=\"x\", y=\"y\", z=\"z\", title= \"PCA: Question embeddings 3D\", hover_data=[\"id\",\"class\", \"question\"], color=\"class\")\n",
    "            plotly.offline.plot(fig_3d, filename=\"plots/\"+filename)\n",
    "            print(\"-> Output created: \" + \"plots/\"+filename + \"\\n\")\n",
    "\n",
    "    else:\n",
    "        print(\"Choose between TSNE or PCA\")"
   ]
  },
  {
   "cell_type": "code",
   "execution_count": null,
   "metadata": {},
   "outputs": [],
   "source": [
    "draw_plot (res, \"TSNE\", \"2D\", '2d_tsne.html')\n",
    "draw_plot (res, \"TSNE\", \"3D\", '3d_tsne.html')\n",
    "draw_plot (res, \"PCA\",  \"2D\", '2d_pca.html')\n",
    "draw_plot (res, \"PCA\",  \"3D\", '3d_pca.html')"
   ]
  }
 ],
 "metadata": {
  "language_info": {
   "codemirror_mode": {
    "name": "ipython",
    "version": 2
   },
   "file_extension": ".py",
   "mimetype": "text/x-python",
   "name": "python",
   "nbconvert_exporter": "python",
   "pygments_lexer": "ipython2",
   "version": "3.6.9-final"
  },
  "orig_nbformat": 2,
  "kernelspec": {
   "name": "python36964bit3f9703cefae54e4a8e8d03694f9a0867",
   "display_name": "Python 3.6.9 64-bit"
  }
 },
 "nbformat": 4,
 "nbformat_minor": 2
}