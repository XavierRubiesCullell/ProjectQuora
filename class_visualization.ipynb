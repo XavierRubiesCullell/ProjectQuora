{
 "cells": [
  {
   "cell_type": "code",
   "execution_count": 146,
   "metadata": {},
   "outputs": [],
   "source": [
    "# files\n",
    "import utils\n",
    "\n",
    "# packages\n",
    "import numpy as np \n",
    "import pandas as pd \n",
    "import os\n",
    "import torch\n",
    "import matplotlib.pyplot as plt\n",
    "from sklearn.manifold import TSNE\n",
    "from sklearn.decomposition import PCA\n",
    "import plotly.express as px\n",
    "import plotly\n",
    "import sklearn.cluster as sk\n",
    "from transformers import BertConfig, BertForSequenceClassification, BertTokenizer\n",
    "from mpl_toolkits.mplot3d import Axes3D "
   ]
  },
  {
   "cell_type": "code",
   "execution_count": 2,
   "metadata": {},
   "outputs": [],
   "source": [
    "df_train = pd.read_csv(\"data/train.csv\").fillna(\"\")\n",
    "sentences = pd.read_csv(\"data/sentences.csv\").fillna(\"\")"
   ]
  },
  {
   "cell_type": "code",
   "execution_count": 8,
   "metadata": {},
   "outputs": [],
   "source": [
    "tr_qids = pd.Series(df_train['qid1'].tolist() + df_train['qid2'].tolist())\n",
    "qs_tr = pd.Series(df_train['question1'].tolist() + df_train['question2'].tolist()).astype(str)\n",
    "\n",
    "MODEL_CLASSES = {\n",
    "    'bert': (           BertForSequenceClassification,          BertTokenizer,          'bert-base-uncased')\n",
    "}\n",
    "model_class, tokenizer, pretrained_model = MODEL_CLASSES['bert']\n",
    "tokenizer = tokenizer.from_pretrained(pretrained_model)\n",
    "\n",
    "# Dictionary with unique sentences\n",
    "unique_dic = tr_qids.value_counts()"
   ]
  },
  {
   "cell_type": "code",
   "execution_count": 9,
   "metadata": {},
   "outputs": [
    {
     "output_type": "stream",
     "name": "stdout",
     "text": "There are 448743 different question classes\n"
    }
   ],
   "source": [
    "(class_to_nodes, node_to_class) = utils.clusters(np.array(df_train[[\"qid1\", \"qid2\",\"is_duplicate\"]]))\n",
    "print(\"There are\", len(class_to_nodes), \"different question classes\")"
   ]
  },
  {
   "cell_type": "code",
   "execution_count": 101,
   "metadata": {},
   "outputs": [
    {
     "output_type": "execute_result",
     "data": {
      "text/plain": "[2129, 2064, 4274, 3177, 2022, 3445, 2011, 23707, 2083, 1040, 3619, 1029]"
     },
     "metadata": {},
     "execution_count": 101
    }
   ],
   "source": [
    "def list_from_string(emb):\n",
    "    emb = emb[1:-1]\n",
    "    emb = emb.split(', ')\n",
    "    emb = list(map(lambda x: int(x), emb))\n",
    "    return emb"
   ]
  },
  {
   "cell_type": "code",
   "execution_count": 157,
   "metadata": {
    "tags": [
     "outputPrepend",
     "outputPrepend",
     "outputPrepend",
     "outputPrepend",
     "outputPrepend",
     "outputPrepend",
     "outputPrepend",
     "outputPrepend",
     "outputPrepend",
     "outputPrepend"
    ]
   },
   "outputs": [],
   "source": [
    "N_sizes = 10\n",
    "N_classes = 2\n",
    "count = [N_classes]*N_sizes\n",
    "\n",
    "first = True\n",
    "for key, value in class_to_nodes.items():\n",
    "    size = len(value)\n",
    "    if size >= 2 and size < N_sizes+2 and count[size-2] > 0:\n",
    "        count[size-2] -= 1\n",
    "        for val in value:\n",
    "            question = sentences.iloc[val-1,0]\n",
    "            embedding = list_from_string(sentences.iloc[val-1,1])\n",
    "            \n",
    "            if len(embedding) > 34:\n",
    "                embedding = embedding[0:34]\n",
    "            else:\n",
    "                embedding.extend([0] * (70 - len(embedding)))\n",
    "            emb = pd.DataFrame([embedding])\n",
    "            q = pd.DataFrame([val, key, question], index=[\"id\",\"class\",\"question\"]).transpose()\n",
    "            \n",
    "            if first:\n",
    "                res = pd.concat([q, emb], axis=1)\n",
    "                first = False\n",
    "            else:\n",
    "                res = res.append(pd.concat([q, emb], axis=1))"
   ]
  },
  {
   "cell_type": "code",
   "execution_count": 161,
   "metadata": {},
   "outputs": [],
   "source": [
    "def draw_plot (data, method, num_clusters, kind):\n",
    "    embeddings = np.array(data.iloc[:,3:37])\n",
    "\n",
    "    if method == \"TSNE\":\n",
    "        if kind == \"2D\":\n",
    "            tsne = TSNE(n_components=2,verbose=1, perplexity=40, n_iter=300, random_state=510)\n",
    "            node_embeddings = tsne.fit_transform(embeddings)\n",
    "            data['x'] = node_embeddings[:,0]\n",
    "            data['y'] = node_embeddings[:,1]\n",
    "\n",
    "            fig_2d = px.scatter(data, x=\"x\", y=\"y\", title= \"Question embeddings 2D\", hover_data=[\"id\",\"class\", \"question\"], color=\"class\")\n",
    "            plotly.offline.plot(fig_2d, filename='2d_tsne.html')\n",
    "\n",
    "        elif kind == \"3D\":\n",
    "            tsne = TSNE(n_components= 3,verbose=1, perplexity=40, n_iter=300, random_state=510)\n",
    "            node_embeddings_3d = tsne.fit_transform(embeddings)\n",
    "\n",
    "            data['x'] = node_embeddings_3d[:,0]\n",
    "            data['y'] = node_embeddings_3d[:,1]\n",
    "            data['z'] = node_embeddings_3d[:,2]\n",
    "\n",
    "            fig_3d = px.scatter_3d(data, x=\"x\", y=\"y\", z=\"z\", title= \"Question embeddings 3D\", hover_data=[\"id\",\"class\", \"question\"], color=\"class\")\n",
    "            plotly.offline.plot(fig_3d, filename='3d_tsne.html')\n",
    "\n",
    "    elif method == \"PCA\":\n",
    "        if kind == \"2D\":\n",
    "            pca = PCA(n_components=2)\n",
    "            principalComponents = pca.fit_transform(embeddings)\n",
    "\n",
    "            data['x'] = principalComponents[:,0]\n",
    "            data['y'] = principalComponents[:,1]\n",
    "\n",
    "            fig_2d = px.scatter(data, x=\"x\", y=\"y\", title= \"Question embeddings 2D\", hover_data=[\"id\",\"class\", \"question\"], color=\"class\")\n",
    "            plotly.offline.plot(fig_2d, filename='2d_pca.html')\n",
    "\n",
    "        elif kind == \"3D\":\n",
    "            pca = PCA(n_components=3)\n",
    "            principalComponents = pca.fit_transform(embeddings)\n",
    "\n",
    "            data['x'] = principalComponents[:,0]\n",
    "            data['y'] = principalComponents[:,1]\n",
    "            data['z'] = principalComponents[:,2]\n",
    "\n",
    "            fig_3d = px.scatter_3d(data, x=\"x\", y=\"y\", z=\"z\", title= \"Question embeddings 3D\", hover_data=[\"id\",\"class\", \"question\"], color=\"class\")\n",
    "            plotly.offline.plot(fig_3d, filename='3d_pca.html')\n",
    "\n",
    "    else:\n",
    "        print(\"Choose between TSNE or PCA\")"
   ]
  },
  {
   "cell_type": "code",
   "execution_count": 165,
   "metadata": {},
   "outputs": [
    {
     "output_type": "stream",
     "name": "stdout",
     "text": "[t-SNE] Computing 121 nearest neighbors...\n[t-SNE] Indexed 130 samples in 0.001s...\n[t-SNE] Computed neighbors for 130 samples in 0.018s...\n[t-SNE] Computed conditional probabilities for sample 130 / 130\n[t-SNE] Mean sigma: 5891.869992\n[t-SNE] KL divergence after 250 iterations with early exaggeration: 54.211716\n[t-SNE] KL divergence after 300 iterations: 0.565273\n"
    }
   ],
   "source": [
    "draw_plot (res, \"TSNE\", num_clusters, \"2D\")\n",
    "draw_plot (res, \"TSNE\", num_clusters, \"3D\")\n",
    "draw_plot (res, \"PCA\", num_clusters, \"2D\")\n",
    "draw_plot (res, \"PCA\", num_clusters, \"3D\")"
   ]
  }
 ],
 "metadata": {
  "language_info": {
   "codemirror_mode": {
    "name": "ipython",
    "version": 2
   },
   "file_extension": ".py",
   "mimetype": "text/x-python",
   "name": "python",
   "nbconvert_exporter": "python",
   "pygments_lexer": "ipython2",
   "version": "3.6.9-final"
  },
  "orig_nbformat": 2,
  "kernelspec": {
   "name": "python36964bit3f9703cefae54e4a8e8d03694f9a0867",
   "display_name": "Python 3.6.9 64-bit"
  }
 },
 "nbformat": 4,
 "nbformat_minor": 2
}